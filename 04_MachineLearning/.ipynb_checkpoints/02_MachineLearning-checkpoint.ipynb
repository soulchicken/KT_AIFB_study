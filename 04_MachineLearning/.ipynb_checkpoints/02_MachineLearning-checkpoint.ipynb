{
 "cells": [
  {
   "cell_type": "markdown",
   "id": "c14762b7-b001-4247-a358-25a31da2b4f7",
   "metadata": {},
   "source": [
    "# [실습-정답] Python을 활용한 AI 모델링 - 머신러닝 파트\n",
    "+ 이번시간에는 Python을 활용한 AI 모델링에서 머신러닝에 대해 실습해 보겠습니다.\n",
    "+ 머신러닝 모델에는 아래와 같이 모델들이 있습니다.\n",
    " + 단일 분류예측 모델 : LogisticRegression, KNN, DecisionTree\n",
    " + 앙상블(Ensemble) 모델 : RandomForest, XGBoost, LGBM, Stacking, Weighted Blending\n",
    "+ 솔직히, 머신러닝이 딥러닝보다 코딩하기 쉽습니다. 4줄 템플릿에 맞쳐 코딩하면 되기 때문입니다.\n",
    "+ 한가지 당부 드리고 싶은 말은 \"백문이불여일타\" 입니다. \n",
    "+ 이론보다 실습이 더 많은 시간과 노력이 투자 되어야 합니다."
   ]
  },
  {
   "cell_type": "markdown",
   "id": "6a65c8be-4162-4642-80f3-b825a97fc1f3",
   "metadata": {},
   "source": [
    "## 학습목차\n",
    "1. 실습을 위한 KT AIDU 환경변수 설정\n",
    "2. 머신러닝 모델 프로세스\n",
    " - 데이터 가져오기\n",
    " - 데이터 전처리\n",
    " - Train, Test 데이터셋 분할\n",
    " - 데이터 정규화\n",
    " - 단일 분류예측 모델 : LogisticRegression, KNN, DecisionTree\n",
    " - 앙상블(Ensemble) 모델 : RandomForest, XGBoost, LGBM, Stacking, Weighted Blending\n",
    "# \n",
    "# 1. 실습을 위한 KT AIDU 환경변수 설정"
   ]
  },
  {
   "cell_type": "code",
   "execution_count": null,
   "id": "66fd43c8-0b80-4cb0-a71c-58b29c9bceef",
   "metadata": {},
   "outputs": [],
   "source": [
    "# 코드실행시 경고 메시지 무시\n",
    "\n",
    "import warnings\n",
    "warnings.filterwarnings(action='ignore') "
   ]
  },
  {
   "cell_type": "markdown",
   "id": "d3f30fd6-1ff6-4079-8d20-57c1823823e4",
   "metadata": {},
   "source": [
    "##### AIDU 라이브러리 임포트"
   ]
  },
  {
   "cell_type": "code",
   "execution_count": null,
   "id": "60300622-ba51-4407-aa53-c0692f247771",
   "metadata": {},
   "outputs": [],
   "source": [
    "from aicentro.session import Session\n",
    "from aicentro.framework.keras import Keras as AiduFrm\n",
    "\n",
    "aidu_session = Session(verify=False)\n",
    "aidu_framework = AiduFrm(session=aidu_session)"
   ]
  },
  {
   "cell_type": "markdown",
   "id": "019c432e-fcea-4a94-aa97-57d1d186c3b4",
   "metadata": {},
   "source": [
    "##### AIDU 디렉토리 환경변수\n",
    "\n",
    "- data 경로:         aidu_framework.config.data_dir"
   ]
  },
  {
   "cell_type": "code",
   "execution_count": null,
   "id": "53edbee3-4e73-466c-8e03-5807f42330a2",
   "metadata": {},
   "outputs": [],
   "source": [
    "# aidu_framework.config.data_dir 내용 확인\n",
    "aidu_framework.config.data_dir"
   ]
  },
  {
   "cell_type": "markdown",
   "id": "0ff43353-2168-4541-86e6-30eb0dae1f4f",
   "metadata": {},
   "source": [
    "# \n",
    "# 2. 머신러닝 모델 프로세스\n",
    "① 라이브러리 임포트(import)  \n",
    "② 데이터 가져오기(Loading the data)  \n",
    "③ 탐색적 데이터 분석(Exploratory Data Analysis)  \n",
    "④ 데이터 전처리(Data PreProcessing) : 데이터타입 변환, Null 데이터 처리, 누락데이터 처리, \n",
    "더미특성 생성, 특성 추출 (feature engineering) 등  \n",
    "⑤ Train, Test  데이터셋 분할  \n",
    "⑥ 데이터 정규화(Normalizing the Data)  \n",
    "⑦ 모델 개발(Creating the Model)  \n",
    "⑧ 모델 성능 평가"
   ]
  },
  {
   "cell_type": "markdown",
   "id": "f010d08f-97c4-4b39-9058-30d19eab8f7c",
   "metadata": {},
   "source": [
    "## ① 라이브러리 임포트"
   ]
  },
  {
   "cell_type": "markdown",
   "id": "abfb383d-5daf-4b87-a881-2168af47153b",
   "metadata": {},
   "source": [
    "##### 필요 라이브러리 임포트"
   ]
  },
  {
   "cell_type": "code",
   "execution_count": 3,
   "id": "0b0bcbbe-2aad-4401-974f-5777ef3ef22b",
   "metadata": {},
   "outputs": [],
   "source": [
    "import numpy as np\n",
    "import pandas as pd\n",
    "import matplotlib.pyplot as plt"
   ]
  },
  {
   "cell_type": "markdown",
   "id": "07ad2781-c753-4b47-9f2b-b02cc6898e5b",
   "metadata": {},
   "source": [
    "## ② 데이터 로드"
   ]
  },
  {
   "cell_type": "markdown",
   "id": "c630034d-ea79-4f59-8f7c-c2002e8406ae",
   "metadata": {},
   "source": [
    "#### cust_data.csv 파일 컬럼명\n",
    "+ 고객등급(class), 성별(sex), 나이(age), 사용서비스수(service), 서비스중지여부 (stop), 미납여부(npay)\n",
    "+ 3개월 평균 요금(avg_bill), A서비스 3개월 평균요금(A_bill), B서비스 3개월 평균요금(B_bill), 해지여부(termination)"
   ]
  },
  {
   "cell_type": "code",
   "execution_count": 4,
   "id": "f00f1d3e-da2c-460d-854b-cc0e94c2435e",
   "metadata": {},
   "outputs": [],
   "source": [
    "# 앞쪽 전처리에서 저장한 cust_data.csv 파일 읽기\n",
    "df = pd.read_csv('cust_data.csv')"
   ]
  },
  {
   "cell_type": "markdown",
   "id": "98c1b213-3f9d-4f18-b70f-118efbb6185b",
   "metadata": {},
   "source": [
    "## ③ 데이터 분석\n"
   ]
  },
  {
   "cell_type": "code",
   "execution_count": 6,
   "id": "9f5be083-678e-4589-bf0b-efe18042f3c0",
   "metadata": {},
   "outputs": [
    {
     "name": "stdout",
     "output_type": "stream",
     "text": [
      "<class 'pandas.core.frame.DataFrame'>\n",
      "RangeIndex: 7814 entries, 0 to 7813\n",
      "Data columns (total 12 columns):\n",
      " #   Column       Non-Null Count  Dtype  \n",
      "---  ------       --------------  -----  \n",
      " 0   class        7814 non-null   object \n",
      " 1   sex          7814 non-null   object \n",
      " 2   age          7814 non-null   int64  \n",
      " 3   service      7814 non-null   int64  \n",
      " 4   stop         7814 non-null   object \n",
      " 5   npay         7814 non-null   object \n",
      " 6   avg_bill     7814 non-null   float64\n",
      " 7   A_bill       7814 non-null   float64\n",
      " 8   B_bill       7814 non-null   float64\n",
      " 9   termination  7814 non-null   object \n",
      " 10  by_age       7814 non-null   int64  \n",
      " 11  bill_rating  7814 non-null   object \n",
      "dtypes: float64(3), int64(3), object(6)\n",
      "memory usage: 732.7+ KB\n"
     ]
    }
   ],
   "source": [
    "# 12컬럼, 7814 라인\n",
    "df.info()"
   ]
  },
  {
   "cell_type": "code",
   "execution_count": 8,
   "id": "9d496a6c-a965-4d00-b7fb-5f3f16af145e",
   "metadata": {},
   "outputs": [
    {
     "data": {
      "text/html": [
       "<div>\n",
       "<style scoped>\n",
       "    .dataframe tbody tr th:only-of-type {\n",
       "        vertical-align: middle;\n",
       "    }\n",
       "\n",
       "    .dataframe tbody tr th {\n",
       "        vertical-align: top;\n",
       "    }\n",
       "\n",
       "    .dataframe thead th {\n",
       "        text-align: right;\n",
       "    }\n",
       "</style>\n",
       "<table border=\"1\" class=\"dataframe\">\n",
       "  <thead>\n",
       "    <tr style=\"text-align: right;\">\n",
       "      <th></th>\n",
       "      <th>class</th>\n",
       "      <th>sex</th>\n",
       "      <th>age</th>\n",
       "      <th>service</th>\n",
       "      <th>stop</th>\n",
       "      <th>npay</th>\n",
       "      <th>avg_bill</th>\n",
       "      <th>A_bill</th>\n",
       "      <th>B_bill</th>\n",
       "      <th>termination</th>\n",
       "      <th>by_age</th>\n",
       "      <th>bill_rating</th>\n",
       "    </tr>\n",
       "  </thead>\n",
       "  <tbody>\n",
       "    <tr>\n",
       "      <th>7809</th>\n",
       "      <td>C</td>\n",
       "      <td>M</td>\n",
       "      <td>76</td>\n",
       "      <td>1</td>\n",
       "      <td>N</td>\n",
       "      <td>N</td>\n",
       "      <td>1860.0000</td>\n",
       "      <td>1716.000000</td>\n",
       "      <td>0.0000</td>\n",
       "      <td>N</td>\n",
       "      <td>75</td>\n",
       "      <td>low</td>\n",
       "    </tr>\n",
       "    <tr>\n",
       "      <th>7810</th>\n",
       "      <td>C</td>\n",
       "      <td>F</td>\n",
       "      <td>15</td>\n",
       "      <td>1</td>\n",
       "      <td>N</td>\n",
       "      <td>Y</td>\n",
       "      <td>1296.0999</td>\n",
       "      <td>194.414985</td>\n",
       "      <td>643.1001</td>\n",
       "      <td>N</td>\n",
       "      <td>15</td>\n",
       "      <td>low</td>\n",
       "    </tr>\n",
       "    <tr>\n",
       "      <th>7811</th>\n",
       "      <td>G</td>\n",
       "      <td>M</td>\n",
       "      <td>12</td>\n",
       "      <td>1</td>\n",
       "      <td>N</td>\n",
       "      <td>N</td>\n",
       "      <td>13799.6666</td>\n",
       "      <td>2069.949990</td>\n",
       "      <td>10605.9266</td>\n",
       "      <td>N</td>\n",
       "      <td>10</td>\n",
       "      <td>midhigh</td>\n",
       "    </tr>\n",
       "    <tr>\n",
       "      <th>7812</th>\n",
       "      <td>C</td>\n",
       "      <td>F</td>\n",
       "      <td>40</td>\n",
       "      <td>0</td>\n",
       "      <td>N</td>\n",
       "      <td>N</td>\n",
       "      <td>3140.0000</td>\n",
       "      <td>942.000000</td>\n",
       "      <td>1884.0000</td>\n",
       "      <td>Y</td>\n",
       "      <td>40</td>\n",
       "      <td>low</td>\n",
       "    </tr>\n",
       "    <tr>\n",
       "      <th>7813</th>\n",
       "      <td>C</td>\n",
       "      <td>F</td>\n",
       "      <td>59</td>\n",
       "      <td>1</td>\n",
       "      <td>N</td>\n",
       "      <td>N</td>\n",
       "      <td>2436.9000</td>\n",
       "      <td>365.535000</td>\n",
       "      <td>1839.9000</td>\n",
       "      <td>N</td>\n",
       "      <td>55</td>\n",
       "      <td>low</td>\n",
       "    </tr>\n",
       "  </tbody>\n",
       "</table>\n",
       "</div>"
      ],
      "text/plain": [
       "     class sex  age  service stop npay    avg_bill       A_bill      B_bill  \\\n",
       "7809     C   M   76        1    N    N   1860.0000  1716.000000      0.0000   \n",
       "7810     C   F   15        1    N    Y   1296.0999   194.414985    643.1001   \n",
       "7811     G   M   12        1    N    N  13799.6666  2069.949990  10605.9266   \n",
       "7812     C   F   40        0    N    N   3140.0000   942.000000   1884.0000   \n",
       "7813     C   F   59        1    N    N   2436.9000   365.535000   1839.9000   \n",
       "\n",
       "     termination  by_age bill_rating  \n",
       "7809           N      75         low  \n",
       "7810           N      15         low  \n",
       "7811           N      10     midhigh  \n",
       "7812           Y      40         low  \n",
       "7813           N      55         low  "
      ]
     },
     "execution_count": 8,
     "metadata": {},
     "output_type": "execute_result"
    }
   ],
   "source": [
    "df.tail()"
   ]
  },
  {
   "cell_type": "code",
   "execution_count": 9,
   "id": "12d9c921-938c-4ac6-9f4a-49ae8193cdcf",
   "metadata": {},
   "outputs": [
    {
     "data": {
      "text/plain": [
       "<AxesSubplot:>"
      ]
     },
     "execution_count": 9,
     "metadata": {},
     "output_type": "execute_result"
    },
    {
     "data": {
      "image/png": "[encoded data removed]",
      "text/plain": [
       "<Figure size 432x288 with 1 Axes>"
      ]
     },
     "metadata": {
      "needs_background": "light"
     },
     "output_type": "display_data"
    }
   ],
   "source": [
    "# termination 레이블 불균형 \n",
    "df['termination'].value_counts().plot(kind='bar')"
   ]
  },
  {
   "cell_type": "markdown",
   "id": "e278bf11-bafd-44fa-aba0-7e9f0418a911",
   "metadata": {},
   "source": [
    "## ④ 데이터 전처리"
   ]
  },
  {
   "cell_type": "markdown",
   "id": "fa271575-711a-4f30-bcb9-853a262be17e",
   "metadata": {},
   "source": [
    "+ Object 컬럼에 대해 Pandas get_dummies 함수 활용하여 One-Hot-Encoding"
   ]
  },
  {
   "cell_type": "code",
   "execution_count": 10,
   "id": "28dff63f-2fbb-4c06-a586-f02b077b2bea",
   "metadata": {},
   "outputs": [],
   "source": [
    "# Object 컬럼 리스트 정의\n",
    "cal_cols = ['class', 'sex', 'stop', 'npay', 'termination', 'bill_rating']"
   ]
  },
  {
   "cell_type": "code",
   "execution_count": 11,
   "id": "9787534f-f7f3-471c-bd2b-1c5199751895",
   "metadata": {},
   "outputs": [],
   "source": [
    "# pandas get_dummies 함수 사용하여 Object 컬럼에 대해 One-Hot-Encoding 수행\n",
    "df1 = pd.get_dummies(data=df, columns=cal_cols, drop_first=True)"
   ]
  },
  {
   "cell_type": "code",
   "execution_count": 17,
   "id": "9d4b5b28-c048-4a8a-b44e-68b5731d50cb",
   "metadata": {},
   "outputs": [
    {
     "name": "stdout",
     "output_type": "stream",
     "text": [
      "<class 'pandas.core.frame.DataFrame'>\n",
      "RangeIndex: 7814 entries, 0 to 7813\n",
      "Data columns (total 19 columns):\n",
      " #   Column               Non-Null Count  Dtype  \n",
      "---  ------               --------------  -----  \n",
      " 0   age                  7814 non-null   int64  \n",
      " 1   service              7814 non-null   int64  \n",
      " 2   avg_bill             7814 non-null   float64\n",
      " 3   A_bill               7814 non-null   float64\n",
      " 4   B_bill               7814 non-null   float64\n",
      " 5   by_age               7814 non-null   int64  \n",
      " 6   class_D              7814 non-null   uint8  \n",
      " 7   class_E              7814 non-null   uint8  \n",
      " 8   class_F              7814 non-null   uint8  \n",
      " 9   class_G              7814 non-null   uint8  \n",
      " 10  class_H              7814 non-null   uint8  \n",
      " 11  sex_M                7814 non-null   uint8  \n",
      " 12  stop_Y               7814 non-null   uint8  \n",
      " 13  npay_Y               7814 non-null   uint8  \n",
      " 14  termination_Y        7814 non-null   uint8  \n",
      " 15  bill_rating_low      7814 non-null   uint8  \n",
      " 16  bill_rating_lowmid   7814 non-null   uint8  \n",
      " 17  bill_rating_mid      7814 non-null   uint8  \n",
      " 18  bill_rating_midhigh  7814 non-null   uint8  \n",
      "dtypes: float64(3), int64(3), uint8(13)\n",
      "memory usage: 465.6 KB\n"
     ]
    }
   ],
   "source": [
    "# 19컬럼, 7814 라인\n",
    "df1.info()"
   ]
  },
  {
   "cell_type": "markdown",
   "id": "2dbcd39e-a60b-49a0-a8b8-bcab84a0bb1a",
   "metadata": {},
   "source": [
    "## ⑤ Train, Test  데이터셋 분할"
   ]
  },
  {
   "cell_type": "code",
   "execution_count": 18,
   "id": "6893fbc5-e078-4008-aa11-2760bb29a3b4",
   "metadata": {},
   "outputs": [],
   "source": [
    "from sklearn.model_selection import train_test_split"
   ]
  },
  {
   "cell_type": "markdown",
   "id": "13f3f42e-3610-47b6-b9be-2325679973cd",
   "metadata": {},
   "source": [
    "#### 입력(X)과 레이블(y) 나누기"
   ]
  },
  {
   "cell_type": "markdown",
   "id": "12755570-1bd3-45ae-81ad-0c4e068a602d",
   "metadata": {},
   "source": [
    "##### <font color=blue> **[문제] df1 DataFrame에서 'termination_Y' 컬럼을 제외한 나머지 정보를 X에 저장하세요.** </font>"
   ]
  },
  {
   "cell_type": "code",
   "execution_count": 28,
   "id": "ef26df47-b82a-48cc-9e2c-0da7879149a6",
   "metadata": {},
   "outputs": [],
   "source": [
    "# DataFrame drop 함수 활용\n",
    "# 'termination_Y' 컬럼 삭제\n",
    "# DataFrame에서 values만 X에 저장\n",
    "\n",
    "\n",
    "\n",
    "X = df1.drop('termination_Y', axis=1).values"
   ]
  },
  {
   "cell_type": "markdown",
   "id": "df2d1dc7-5807-4e18-9092-90d001008d7a",
   "metadata": {},
   "source": [
    "##### <font color=blue> **[문제] df1 DataFrame에서 'termination_Y' 컬럼의 값을 y로 저장하세요.** </font>"
   ]
  },
  {
   "cell_type": "code",
   "execution_count": 29,
   "id": "05a42817-a500-440a-bdef-b5de2433c328",
   "metadata": {},
   "outputs": [],
   "source": [
    "# DataFrame 'termination_Y' 컬럼 사용\n",
    "# DataFrame에서 values만 y에 저장\n",
    "\n",
    "\n",
    "\n",
    "y = df1['termination_Y'].values"
   ]
  },
  {
   "cell_type": "code",
   "execution_count": 30,
   "id": "618da4e4-bb67-4a41-94eb-ef3e9b7f7eb7",
   "metadata": {},
   "outputs": [
    {
     "data": {
      "text/plain": [
       "((7814, 18), (7814,))"
      ]
     },
     "execution_count": 30,
     "metadata": {},
     "output_type": "execute_result"
    }
   ],
   "source": [
    "X.shape, y.shape"
   ]
  },
  {
   "cell_type": "markdown",
   "id": "a3ef9afb-dc9d-4f4d-bf91-d1402a31f176",
   "metadata": {},
   "source": [
    "#### Train , Test dataset 나누기"
   ]
  },
  {
   "cell_type": "markdown",
   "id": "c7a4bf6b-36a6-4837-be0c-494b51c29cb4",
   "metadata": {},
   "source": [
    "##### <font color=blue> **[문제] Train dataset, Test dataset 나누세요.** </font>"
   ]
  },
  {
   "cell_type": "code",
   "execution_count": 32,
   "id": "95e7bc36-4f6e-454a-a5de-191e3896c7e6",
   "metadata": {},
   "outputs": [],
   "source": [
    "# Train dataset, Test dataset 나누기 : train_test_split 함수 사용\n",
    "# 입력 : X, y \n",
    "# Train : Test 비율 = 7: 3  --> test_size=0.3\n",
    "# y Class 비율에 맞게 나주어 주세요 : stratify=y\n",
    "# 여러번 수행해도 같은 결과 나오게 고정하기 : random_state=42 \n",
    "# 결과 : X_train, X_test, y_train, y_test\n",
    "\n",
    "\n",
    "X_train, X_test, y_train, y_test = train_test_split(X, y, \n",
    "                                                    test_size=0.3, \n",
    "                                                    stratify=y,\n",
    "                                                    random_state=42)"
   ]
  },
  {
   "cell_type": "code",
   "execution_count": 33,
   "id": "8c5edc63-b5c8-4f55-ba59-c97ac207703e",
   "metadata": {},
   "outputs": [
    {
     "data": {
      "text/plain": [
       "(5469, 18)"
      ]
     },
     "execution_count": 33,
     "metadata": {},
     "output_type": "execute_result"
    }
   ],
   "source": [
    "X_train.shape"
   ]
  },
  {
   "cell_type": "code",
   "execution_count": 34,
   "id": "d7b9f644-33af-4e17-b211-c990593d01f0",
   "metadata": {},
   "outputs": [
    {
     "data": {
      "text/plain": [
       "(5469,)"
      ]
     },
     "execution_count": 34,
     "metadata": {},
     "output_type": "execute_result"
    }
   ],
   "source": [
    "y_train.shape"
   ]
  },
  {
   "cell_type": "markdown",
   "id": "ca9be9ee-8ffa-4dfe-956e-73be8ae8c81a",
   "metadata": {},
   "source": [
    "## ⑥ 데이터 정규화/스케일링(Normalizing/Scaling)"
   ]
  },
  {
   "cell_type": "code",
   "execution_count": 35,
   "id": "759b8cc1-c59e-400f-ba3a-8864eb781506",
   "metadata": {},
   "outputs": [
    {
     "data": {
      "text/html": [
       "<div>\n",
       "<style scoped>\n",
       "    .dataframe tbody tr th:only-of-type {\n",
       "        vertical-align: middle;\n",
       "    }\n",
       "\n",
       "    .dataframe tbody tr th {\n",
       "        vertical-align: top;\n",
       "    }\n",
       "\n",
       "    .dataframe thead th {\n",
       "        text-align: right;\n",
       "    }\n",
       "</style>\n",
       "<table border=\"1\" class=\"dataframe\">\n",
       "  <thead>\n",
       "    <tr style=\"text-align: right;\">\n",
       "      <th></th>\n",
       "      <th>age</th>\n",
       "      <th>service</th>\n",
       "      <th>avg_bill</th>\n",
       "      <th>A_bill</th>\n",
       "      <th>B_bill</th>\n",
       "      <th>by_age</th>\n",
       "      <th>class_D</th>\n",
       "      <th>class_E</th>\n",
       "      <th>class_F</th>\n",
       "      <th>class_G</th>\n",
       "      <th>class_H</th>\n",
       "      <th>sex_M</th>\n",
       "      <th>stop_Y</th>\n",
       "      <th>npay_Y</th>\n",
       "      <th>termination_Y</th>\n",
       "      <th>bill_rating_low</th>\n",
       "      <th>bill_rating_lowmid</th>\n",
       "      <th>bill_rating_mid</th>\n",
       "      <th>bill_rating_midhigh</th>\n",
       "    </tr>\n",
       "  </thead>\n",
       "  <tbody>\n",
       "    <tr>\n",
       "      <th>7809</th>\n",
       "      <td>76</td>\n",
       "      <td>1</td>\n",
       "      <td>1860.0000</td>\n",
       "      <td>1716.000000</td>\n",
       "      <td>0.0000</td>\n",
       "      <td>75</td>\n",
       "      <td>0</td>\n",
       "      <td>0</td>\n",
       "      <td>0</td>\n",
       "      <td>0</td>\n",
       "      <td>0</td>\n",
       "      <td>1</td>\n",
       "      <td>0</td>\n",
       "      <td>0</td>\n",
       "      <td>0</td>\n",
       "      <td>1</td>\n",
       "      <td>0</td>\n",
       "      <td>0</td>\n",
       "      <td>0</td>\n",
       "    </tr>\n",
       "    <tr>\n",
       "      <th>7810</th>\n",
       "      <td>15</td>\n",
       "      <td>1</td>\n",
       "      <td>1296.0999</td>\n",
       "      <td>194.414985</td>\n",
       "      <td>643.1001</td>\n",
       "      <td>15</td>\n",
       "      <td>0</td>\n",
       "      <td>0</td>\n",
       "      <td>0</td>\n",
       "      <td>0</td>\n",
       "      <td>0</td>\n",
       "      <td>0</td>\n",
       "      <td>0</td>\n",
       "      <td>1</td>\n",
       "      <td>0</td>\n",
       "      <td>1</td>\n",
       "      <td>0</td>\n",
       "      <td>0</td>\n",
       "      <td>0</td>\n",
       "    </tr>\n",
       "    <tr>\n",
       "      <th>7811</th>\n",
       "      <td>12</td>\n",
       "      <td>1</td>\n",
       "      <td>13799.6666</td>\n",
       "      <td>2069.949990</td>\n",
       "      <td>10605.9266</td>\n",
       "      <td>10</td>\n",
       "      <td>0</td>\n",
       "      <td>0</td>\n",
       "      <td>0</td>\n",
       "      <td>1</td>\n",
       "      <td>0</td>\n",
       "      <td>1</td>\n",
       "      <td>0</td>\n",
       "      <td>0</td>\n",
       "      <td>0</td>\n",
       "      <td>0</td>\n",
       "      <td>0</td>\n",
       "      <td>0</td>\n",
       "      <td>1</td>\n",
       "    </tr>\n",
       "    <tr>\n",
       "      <th>7812</th>\n",
       "      <td>40</td>\n",
       "      <td>0</td>\n",
       "      <td>3140.0000</td>\n",
       "      <td>942.000000</td>\n",
       "      <td>1884.0000</td>\n",
       "      <td>40</td>\n",
       "      <td>0</td>\n",
       "      <td>0</td>\n",
       "      <td>0</td>\n",
       "      <td>0</td>\n",
       "      <td>0</td>\n",
       "      <td>0</td>\n",
       "      <td>0</td>\n",
       "      <td>0</td>\n",
       "      <td>1</td>\n",
       "      <td>1</td>\n",
       "      <td>0</td>\n",
       "      <td>0</td>\n",
       "      <td>0</td>\n",
       "    </tr>\n",
       "    <tr>\n",
       "      <th>7813</th>\n",
       "      <td>59</td>\n",
       "      <td>1</td>\n",
       "      <td>2436.9000</td>\n",
       "      <td>365.535000</td>\n",
       "      <td>1839.9000</td>\n",
       "      <td>55</td>\n",
       "      <td>0</td>\n",
       "      <td>0</td>\n",
       "      <td>0</td>\n",
       "      <td>0</td>\n",
       "      <td>0</td>\n",
       "      <td>0</td>\n",
       "      <td>0</td>\n",
       "      <td>0</td>\n",
       "      <td>0</td>\n",
       "      <td>1</td>\n",
       "      <td>0</td>\n",
       "      <td>0</td>\n",
       "      <td>0</td>\n",
       "    </tr>\n",
       "  </tbody>\n",
       "</table>\n",
       "</div>"
      ],
      "text/plain": [
       "      age  service    avg_bill       A_bill      B_bill  by_age  class_D  \\\n",
       "7809   76        1   1860.0000  1716.000000      0.0000      75        0   \n",
       "7810   15        1   1296.0999   194.414985    643.1001      15        0   \n",
       "7811   12        1  13799.6666  2069.949990  10605.9266      10        0   \n",
       "7812   40        0   3140.0000   942.000000   1884.0000      40        0   \n",
       "7813   59        1   2436.9000   365.535000   1839.9000      55        0   \n",
       "\n",
       "      class_E  class_F  class_G  class_H  sex_M  stop_Y  npay_Y  \\\n",
       "7809        0        0        0        0      1       0       0   \n",
       "7810        0        0        0        0      0       0       1   \n",
       "7811        0        0        1        0      1       0       0   \n",
       "7812        0        0        0        0      0       0       0   \n",
       "7813        0        0        0        0      0       0       0   \n",
       "\n",
       "      termination_Y  bill_rating_low  bill_rating_lowmid  bill_rating_mid  \\\n",
       "7809              0                1                   0                0   \n",
       "7810              0                1                   0                0   \n",
       "7811              0                0                   0                0   \n",
       "7812              1                1                   0                0   \n",
       "7813              0                1                   0                0   \n",
       "\n",
       "      bill_rating_midhigh  \n",
       "7809                    0  \n",
       "7810                    0  \n",
       "7811                    1  \n",
       "7812                    0  \n",
       "7813                    0  "
      ]
     },
     "execution_count": 35,
     "metadata": {},
     "output_type": "execute_result"
    }
   ],
   "source": [
    "# 숫자 분포 이루어진 컬럼 확인\n",
    "df1.tail()"
   ]
  },
  {
   "cell_type": "code",
   "execution_count": 36,
   "id": "c11fdc5f-1a70-4a2d-b0ba-aa1299331cc3",
   "metadata": {},
   "outputs": [],
   "source": [
    "from sklearn.preprocessing import MinMaxScaler # 0 ~ 1 로 정규화를 시킨다"
   ]
  },
  {
   "cell_type": "markdown",
   "id": "4c6ccb30-32b7-4734-bf70-65719db2d4f0",
   "metadata": {},
   "source": [
    "##### <font color=blue> **[문제] MinMaxScaler 함수를 'scaler'로 정의 하세요.** </font>"
   ]
  },
  {
   "cell_type": "code",
   "execution_count": 37,
   "id": "6612135b-4369-4913-a75b-67889a66da05",
   "metadata": {},
   "outputs": [],
   "source": [
    "# 사이키런의 MinMaxScaler() 함수 활용\n",
    "# 정의할 결과를 'scaler'로 매핑\n",
    "\n",
    "\n",
    "\n",
    "scaler = MinMaxScaler()"
   ]
  },
  {
   "cell_type": "code",
   "execution_count": 38,
   "id": "6a4451a0-9ed3-4ac5-8369-1cce63c7348a",
   "metadata": {},
   "outputs": [],
   "source": [
    "X_train = scaler.fit_transform(X_train)\n",
    "X_test = scaler.transform(X_test)"
   ]
  },
  {
   "cell_type": "code",
   "execution_count": 39,
   "id": "87876e90-e66f-4e1e-b1af-6cf9df3d2631",
   "metadata": {},
   "outputs": [
    {
     "data": {
      "text/plain": [
       "(array([[0.38      , 0.33333333, 0.4295439 , 0.06384702, 0.41944434,\n",
       "         0.4       , 0.        , 0.        , 0.        , 0.        ,\n",
       "         1.        , 1.        , 0.        , 1.        , 0.        ,\n",
       "         0.        , 0.        , 1.        ],\n",
       "        [0.58      , 0.11111111, 0.20111297, 0.38498933, 0.        ,\n",
       "         0.6       , 1.        , 0.        , 0.        , 0.        ,\n",
       "         0.        , 1.        , 0.        , 0.        , 0.        ,\n",
       "         1.        , 0.        , 0.        ]]),\n",
       " array([0, 0], dtype=uint8))"
      ]
     },
     "execution_count": 39,
     "metadata": {},
     "output_type": "execute_result"
    }
   ],
   "source": [
    "X_train[:2], y_train[:2]"
   ]
  },
  {
   "cell_type": "markdown",
   "id": "475153cc-7cd7-4b0b-b185-467735e0fe3a",
   "metadata": {},
   "source": [
    "+ 모델 입력갯수, 출력갯수 확인"
   ]
  },
  {
   "cell_type": "code",
   "execution_count": 44,
   "id": "c75de59d-5f63-4d18-ade4-9e0087bb5bcf",
   "metadata": {},
   "outputs": [
    {
     "data": {
      "text/plain": [
       "(5469, 18)"
      ]
     },
     "execution_count": 44,
     "metadata": {},
     "output_type": "execute_result"
    }
   ],
   "source": [
    "X_train.shape"
   ]
  },
  {
   "cell_type": "code",
   "execution_count": 45,
   "id": "0a9b9ad0-c51f-4589-9116-d2cce727bcfc",
   "metadata": {},
   "outputs": [
    {
     "data": {
      "text/plain": [
       "(5469,)"
      ]
     },
     "execution_count": 45,
     "metadata": {},
     "output_type": "execute_result"
    }
   ],
   "source": [
    "y_train.shape"
   ]
  },
  {
   "cell_type": "markdown",
   "id": "7b1138af-b445-477c-a5eb-8ae3896c1250",
   "metadata": {},
   "source": [
    "## ⑦ 모델 개발"
   ]
  },
  {
   "cell_type": "markdown",
   "id": "3f0ad09d-79cf-44ce-8f46-13968636eac5",
   "metadata": {},
   "source": [
    "#### 모델별 바차트 그려주고 성능 확인을 위한 함수"
   ]
  },
  {
   "cell_type": "code",
   "execution_count": 46,
   "id": "05f62cd3-8647-44c4-b4a7-a65c9421e375",
   "metadata": {},
   "outputs": [],
   "source": [
    "# 모델 Accuracy 점수 순서대로 바차트를 그려 모델별로 성능 확인 가능\n",
    "\n",
    "from sklearn.metrics import accuracy_score\n",
    "\n",
    "my_predictions = {}\n",
    "\n",
    "colors = ['r', 'c', 'm', 'y', 'k', 'khaki', 'teal', 'orchid', 'sandybrown',\n",
    "          'greenyellow', 'dodgerblue', 'deepskyblue', 'rosybrown', 'firebrick',\n",
    "          'deeppink', 'crimson', 'salmon', 'darkred', 'olivedrab', 'olive', \n",
    "          'forestgreen', 'royalblue', 'indigo', 'navy', 'mediumpurple', 'chocolate',\n",
    "          'gold', 'darkorange', 'seagreen', 'turquoise', 'steelblue', 'slategray', \n",
    "          'peru', 'midnightblue', 'slateblue', 'dimgray', 'cadetblue', 'tomato'\n",
    "         ]\n",
    "\n",
    "# 모델명, 예측값, 실제값을 주면 위의 plot_predictions 함수 호출하여 Scatter 그래프 그리며\n",
    "# 모델별 MSE값을 Bar chart로 그려줌\n",
    "def accuracy_eval(name_, pred, actual):\n",
    "    global predictions\n",
    "    global colors\n",
    "\n",
    "    plt.figure(figsize=(12, 9))# 모델별로 Accuracy 점수 저장\n",
    "\n",
    "\n",
    "    acc = accuracy_score(actual, pred)\n",
    "    my_predictions[name_] = acc * 100\n",
    "\n",
    "    y_value = sorted(my_predictions.items(), key=lambda x: x[1], reverse=True)\n",
    "    \n",
    "    df = pd.DataFrame(y_value, columns=['model', 'accuracy'])\n",
    "    print(df)\n",
    "   \n",
    "    length = len(df)\n",
    "    \n",
    "    plt.figure(figsize=(10, length))\n",
    "    ax = plt.subplot()\n",
    "    ax.set_yticks(np.arange(len(df)))\n",
    "    ax.set_yticklabels(df['model'], fontsize=15)\n",
    "    bars = ax.barh(np.arange(len(df)), df['accuracy'])\n",
    "    \n",
    "    for i, v in enumerate(df['accuracy']):\n",
    "        idx = np.random.choice(len(colors))\n",
    "        bars[i].set_color(colors[idx])\n",
    "        ax.text(v + 2, i, str(round(v, 3)), color='k', fontsize=15, fontweight='bold')\n",
    "        \n",
    "    plt.title('accuracy', fontsize=18)\n",
    "    plt.xlim(0, 100)\n",
    "    \n",
    "    plt.show()"
   ]
  },
  {
   "cell_type": "markdown",
   "id": "b8a18ee0-b0d5-40f3-8de2-935c3927daf0",
   "metadata": {},
   "source": [
    "###  \n",
    "### 1) 로지스틱 회귀 (LogisticRegression, 분류)"
   ]
  },
  {
   "cell_type": "code",
   "execution_count": 47,
   "id": "1ddd50bd-b7b7-4f4e-8665-ef623ee30dbf",
   "metadata": {},
   "outputs": [],
   "source": [
    "from sklearn.linear_model import LogisticRegression\n",
    "from sklearn.metrics import confusion_matrix \n",
    "from sklearn.metrics import accuracy_score, precision_score, recall_score, f1_score\n",
    "from sklearn.metrics import classification_report"
   ]
  },
  {
   "cell_type": "markdown",
   "id": "fb9f5e9b-7656-462a-a07c-7fd4d96f580a",
   "metadata": {},
   "source": [
    "##### <font color=blue> **[문제] LogisticRegression 모델 정의하고 학습시키세요.** </font>"
   ]
  },
  {
   "cell_type": "code",
   "execution_count": 48,
   "id": "ae831189-9fce-4bf7-afcd-568d38ad7467",
   "metadata": {},
   "outputs": [
    {
     "data": {
      "text/plain": [
       "LogisticRegression()"
      ]
     },
     "execution_count": 48,
     "metadata": {},
     "output_type": "execute_result"
    }
   ],
   "source": [
    "# LogisticRegression 함수 사용 및 정의 : lg 저장\n",
    "# 정의된 LogisticRegression 학습 fit() : 입력값으로 X_train, y_train 준다.\n",
    "\n",
    "\n",
    "lg = LogisticRegression()\n",
    "lg.fit(X_train, y_train)"
   ]
  },
  {
   "cell_type": "code",
   "execution_count": 49,
   "id": "8d73b271-a263-4275-9ea5-80259ff8887b",
   "metadata": {},
   "outputs": [
    {
     "data": {
      "text/plain": [
       "0.929637526652452"
      ]
     },
     "execution_count": 49,
     "metadata": {},
     "output_type": "execute_result"
    }
   ],
   "source": [
    "# 분류기 성능 평가(score)\n",
    "lg.score(X_test, y_test)"
   ]
  },
  {
   "cell_type": "code",
   "execution_count": 50,
   "id": "0ec35ab6-9709-4614-9cd0-d2c461dfd4e4",
   "metadata": {},
   "outputs": [],
   "source": [
    "lg_pred = lg.predict(X_test)"
   ]
  },
  {
   "cell_type": "code",
   "execution_count": 51,
   "id": "4fa3e749-0875-4274-b90c-c5000e510c1c",
   "metadata": {},
   "outputs": [
    {
     "data": {
      "text/plain": [
       "array([[2098,   11],\n",
       "       [ 154,   82]])"
      ]
     },
     "execution_count": 51,
     "metadata": {},
     "output_type": "execute_result"
    }
   ],
   "source": [
    "# 오차행렬\n",
    "# TN  FP\n",
    "# FN  TP\n",
    "\n",
    "confusion_matrix(y_test, lg_pred) "
   ]
  },
  {
   "cell_type": "code",
   "execution_count": 52,
   "id": "6afd8ec9-41ab-4ec7-9321-7556159baef0",
   "metadata": {},
   "outputs": [
    {
     "data": {
      "text/plain": [
       "0.929637526652452"
      ]
     },
     "execution_count": 52,
     "metadata": {},
     "output_type": "execute_result"
    }
   ],
   "source": [
    "# 정확도 : 굉장히 높다\n",
    "accuracy_score(y_test, lg_pred)  "
   ]
  },
  {
   "cell_type": "code",
   "execution_count": 53,
   "id": "738dce39-1c6b-47c2-8d12-407abe5d71ff",
   "metadata": {},
   "outputs": [
    {
     "data": {
      "text/plain": [
       "0.8817204301075269"
      ]
     },
     "execution_count": 53,
     "metadata": {},
     "output_type": "execute_result"
    }
   ],
   "source": [
    "# 정밀도\n",
    "precision_score(y_test, lg_pred) "
   ]
  },
  {
   "cell_type": "code",
   "execution_count": 54,
   "id": "fe97f43f-bca2-4429-8d75-19cd99287598",
   "metadata": {},
   "outputs": [
    {
     "data": {
      "text/plain": [
       "0.3474576271186441"
      ]
     },
     "execution_count": 54,
     "metadata": {},
     "output_type": "execute_result"
    }
   ],
   "source": [
    "# 재현율 : 굉장히 낮다.\n",
    "recall_score(y_test, lg_pred)  "
   ]
  },
  {
   "cell_type": "code",
   "execution_count": 55,
   "id": "b9f43402-2232-4031-a2ad-0303d0157ae2",
   "metadata": {},
   "outputs": [
    {
     "data": {
      "text/plain": [
       "0.4984802431610942"
      ]
     },
     "execution_count": 55,
     "metadata": {},
     "output_type": "execute_result"
    }
   ],
   "source": [
    "# 정밀도 + 재현율\n",
    "f1_score(y_test, lg_pred) "
   ]
  },
  {
   "cell_type": "code",
   "execution_count": 56,
   "id": "eaf8747f-e67e-4038-acf3-1a8dfd4a51aa",
   "metadata": {},
   "outputs": [
    {
     "name": "stdout",
     "output_type": "stream",
     "text": [
      "              precision    recall  f1-score   support\n",
      "\n",
      "           0       0.93      0.99      0.96      2109\n",
      "           1       0.88      0.35      0.50       236\n",
      "\n",
      "    accuracy                           0.93      2345\n",
      "   macro avg       0.91      0.67      0.73      2345\n",
      "weighted avg       0.93      0.93      0.92      2345\n",
      "\n"
     ]
    }
   ],
   "source": [
    "print(classification_report(y_test, lg_pred))"
   ]
  },
  {
   "cell_type": "code",
   "execution_count": 57,
   "id": "fe65bff3-fee7-47e9-a856-ada4b21bf63c",
   "metadata": {},
   "outputs": [
    {
     "name": "stdout",
     "output_type": "stream",
     "text": [
      "                model   accuracy\n",
      "0  LogisticRegression  92.963753\n"
     ]
    },
    {
     "data": {
      "text/plain": [
       "<Figure size 864x648 with 0 Axes>"
      ]
     },
     "metadata": {},
     "output_type": "display_data"
    },
    {
     "data": {
      "image/png": "[encoded data removed]",
      "text/plain": [
       "<Figure size 720x72 with 1 Axes>"
      ]
     },
     "metadata": {
      "needs_background": "light"
     },
     "output_type": "display_data"
    }
   ],
   "source": [
    "accuracy_eval('LogisticRegression', lg_pred, y_test)"
   ]
  },
  {
   "cell_type": "markdown",
   "id": "4a3c0817-a6ae-4c9e-9c83-efd00a231526",
   "metadata": {},
   "source": [
    "###   \n",
    "### 2) KNN (K-Nearest Neighbor)"
   ]
  },
  {
   "cell_type": "code",
   "execution_count": 58,
   "id": "b3cf5b2c-8491-45d3-855c-03da8f7d50a6",
   "metadata": {},
   "outputs": [],
   "source": [
    "from sklearn.neighbors import KNeighborsClassifier"
   ]
  },
  {
   "cell_type": "code",
   "execution_count": 59,
   "id": "ff464c88-9eb6-42f6-aea2-86bab97c67ea",
   "metadata": {},
   "outputs": [
    {
     "data": {
      "text/plain": [
       "KNeighborsClassifier()"
      ]
     },
     "execution_count": 59,
     "metadata": {},
     "output_type": "execute_result"
    }
   ],
   "source": [
    "knn = KNeighborsClassifier(n_neighbors=5)\n",
    "knn.fit(X_train, y_train)"
   ]
  },
  {
   "cell_type": "code",
   "execution_count": 60,
   "id": "f04c24ae-b17b-4a0c-a2eb-480622dfd6f1",
   "metadata": {},
   "outputs": [],
   "source": [
    "knn_pred = knn.predict(X_test)"
   ]
  },
  {
   "cell_type": "code",
   "execution_count": 61,
   "id": "9003103e-d52d-4e96-8b7b-f6ad1c0a3d14",
   "metadata": {},
   "outputs": [
    {
     "name": "stdout",
     "output_type": "stream",
     "text": [
      "                model   accuracy\n",
      "0  K-Nearest Neighbor  94.712154\n",
      "1  LogisticRegression  92.963753\n"
     ]
    },
    {
     "data": {
      "text/plain": [
       "<Figure size 864x648 with 0 Axes>"
      ]
     },
     "metadata": {},
     "output_type": "display_data"
    },
    {
     "data": {
      "image/png": "[encoded data removed]",
      "text/plain": [
       "<Figure size 720x144 with 1 Axes>"
      ]
     },
     "metadata": {
      "needs_background": "light"
     },
     "output_type": "display_data"
    }
   ],
   "source": [
    "accuracy_eval('K-Nearest Neighbor', knn_pred, y_test)"
   ]
  },
  {
   "cell_type": "markdown",
   "id": "ac7764ef-51f1-4459-8703-bf51c75d1f57",
   "metadata": {},
   "source": [
    "###  \n",
    "### 3) 결정트리(DecisionTree)"
   ]
  },
  {
   "cell_type": "code",
   "execution_count": 62,
   "id": "984f99e1-9e1f-4cff-a443-53038cb3a880",
   "metadata": {},
   "outputs": [],
   "source": [
    "from sklearn.tree import DecisionTreeClassifier"
   ]
  },
  {
   "cell_type": "code",
   "execution_count": 63,
   "id": "05fc8065-0d61-4c29-b682-89ce3024efb8",
   "metadata": {},
   "outputs": [
    {
     "data": {
      "text/plain": [
       "DecisionTreeClassifier(max_depth=10, random_state=42)"
      ]
     },
     "execution_count": 63,
     "metadata": {},
     "output_type": "execute_result"
    }
   ],
   "source": [
    "dt = DecisionTreeClassifier(max_depth=10, random_state=42)\n",
    "dt.fit(X_train, y_train)"
   ]
  },
  {
   "cell_type": "markdown",
   "id": "f835b136-4036-4561-8fa5-4a763535859e",
   "metadata": {},
   "source": [
    "##### <font color=blue> **[문제] 학습된 DecisionTreeClassifier 모델로 예측해 보기** </font>"
   ]
  },
  {
   "cell_type": "code",
   "execution_count": 64,
   "id": "5a51a8a8-9b40-4354-824d-915202a1dcab",
   "metadata": {},
   "outputs": [],
   "source": [
    "# DecisionTreeClassifier 학습 모델 : dt\n",
    "# DecisionTreeClassifier 모델의 predict() 활용 : 입력값으로 X_test\n",
    "# 결과 : dt_pred 저장\n",
    "\n",
    "\n",
    "\n",
    "dt_pred = dt.predict(X_test)"
   ]
  },
  {
   "cell_type": "code",
   "execution_count": 66,
   "id": "f7287979-1834-4814-8939-feed4fada27e",
   "metadata": {},
   "outputs": [
    {
     "name": "stdout",
     "output_type": "stream",
     "text": [
      "                model   accuracy\n",
      "0        DecisionTree  97.313433\n",
      "1  K-Nearest Neighbor  94.712154\n",
      "2  LogisticRegression  92.963753\n"
     ]
    },
    {
     "data": {
      "text/plain": [
       "<Figure size 864x648 with 0 Axes>"
      ]
     },
     "metadata": {},
     "output_type": "display_data"
    },
    {
     "data": {
      "image/png": "[encoded data removed]",
      "text/plain": [
       "<Figure size 720x216 with 1 Axes>"
      ]
     },
     "metadata": {
      "needs_background": "light"
     },
     "output_type": "display_data"
    }
   ],
   "source": [
    "accuracy_eval('DecisionTree', dt_pred, y_test)"
   ]
  },
  {
   "cell_type": "markdown",
   "id": "9fc97c8a-c66e-4886-831e-f5e11f2cc008",
   "metadata": {},
   "source": [
    "### \n",
    "### **앙상블 기법의 종류**\n",
    "- 배깅 (Bagging): 여러개의 DecisionTree 활용하고 샘플 중복 생성을 통해 결과 도출. RandomForest\n",
    "- 부스팅 (Boosting): 약한 학습기를 순차적으로 학습을 하되, 이전 학습에 대하여 잘못 예측된 데이터에 가중치를 부여해 오차를 보완해 나가는 방식. XGBoost, LGBM\n",
    "- 스태킹 (Stacking): 여러 모델을 기반으로 예측된 결과를 통해 Final 학습기(meta 모델)이 다시 한번 예측"
   ]
  },
  {
   "cell_type": "markdown",
   "id": "778cceff-6901-4b83-b25a-55abfff19e30",
   "metadata": {},
   "source": [
    "![앙상블](https://teddylee777.github.io/images/2019-12-18/image-20191217144823555.png)"
   ]
  },
  {
   "cell_type": "markdown",
   "id": "74944314-bdde-4475-804e-bf075806271a",
   "metadata": {},
   "source": [
    "###  \n",
    "### 4) 랜덤포레스트(RandomForest)\n",
    "+ Bagging 대표적인 모델로써, 훈련셋트를 무작위로 각기 다른 서브셋으로 데이터셋을 만들고\n",
    "+ 여러개의 DecisonTree로 학습하고 다수결로 결정하는 모델"
   ]
  },
  {
   "cell_type": "markdown",
   "id": "c9d7cac1-cd2a-46cd-8711-9a9dc0633308",
   "metadata": {},
   "source": [
    "**주요 Hyperparameter**\n",
    "- random_state: 랜덤 시드 고정 값. 고정해두고 튜닝할 것!\n",
    "- n_jobs: CPU 사용 갯수\n",
    "- max_depth: 깊어질 수 있는 최대 깊이. 과대적합 방지용\n",
    "- n_estimators: 앙상블하는 트리의 갯수\n",
    "- max_features: 최대로 사용할 feature의 갯수. 과대적합 방지용\n",
    "- min_samples_split: 트리가 분할할 때 최소 샘플의 갯수. default=2. 과대적합 방지용"
   ]
  },
  {
   "cell_type": "code",
   "execution_count": 67,
   "id": "998f3d8f-7deb-4ea0-9573-d5ef5f1ed780",
   "metadata": {},
   "outputs": [],
   "source": [
    "from sklearn.ensemble import RandomForestClassifier"
   ]
  },
  {
   "cell_type": "code",
   "execution_count": 68,
   "id": "189a20d4-3372-4a01-80a8-dc60b3e2d489",
   "metadata": {},
   "outputs": [
    {
     "data": {
      "text/plain": [
       "RandomForestClassifier(n_estimators=3, random_state=42)"
      ]
     },
     "execution_count": 68,
     "metadata": {},
     "output_type": "execute_result"
    }
   ],
   "source": [
    "rfc = RandomForestClassifier(n_estimators=3, random_state=42)\n",
    "rfc.fit(X_train, y_train)"
   ]
  },
  {
   "cell_type": "code",
   "execution_count": 69,
   "id": "3e4314a6-7535-4058-b32d-37bb2442d73a",
   "metadata": {},
   "outputs": [],
   "source": [
    "rfc_pred = rfc.predict(X_test)"
   ]
  },
  {
   "cell_type": "code",
   "execution_count": 70,
   "id": "1c8da168-0eb6-4f1f-bbc3-a0e7c6409e45",
   "metadata": {},
   "outputs": [
    {
     "name": "stdout",
     "output_type": "stream",
     "text": [
      "                   model   accuracy\n",
      "0  RandomForest Ensemble  97.611940\n",
      "1           DecisionTree  97.313433\n",
      "2     K-Nearest Neighbor  94.712154\n",
      "3     LogisticRegression  92.963753\n"
     ]
    },
    {
     "data": {
      "text/plain": [
       "<Figure size 864x648 with 0 Axes>"
      ]
     },
     "metadata": {},
     "output_type": "display_data"
    },
    {
     "data": {
      "image/png": "[encoded data removed]",
      "text/plain": [
       "<Figure size 720x288 with 1 Axes>"
      ]
     },
     "metadata": {
      "needs_background": "light"
     },
     "output_type": "display_data"
    }
   ],
   "source": [
    "accuracy_eval('RandomForest Ensemble', rfc_pred, y_test)"
   ]
  },
  {
   "cell_type": "markdown",
   "id": "980608a6-bcd9-4c68-aef6-c11ce7effff7",
   "metadata": {},
   "source": [
    "###  \n",
    "### 5) XGBoost\n",
    "+ 여러개의 DecisionTree를 결합하여 Strong Learner 만드는 Boosting 앙상블 기법\n",
    "+ Kaggle 대회에서 자주 사용하는 모델이다."
   ]
  },
  {
   "cell_type": "markdown",
   "id": "b7675ae9-6e42-4f6d-b62a-232c81b9fbef",
   "metadata": {},
   "source": [
    "**주요 특징**\n",
    "- scikit-learn 패키지가 아닙니다.\n",
    "- 성능이 우수함\n",
    "- GBM보다는 빠르고 성능도 향상되었습니다.\n",
    "- 여전히 학습시간이 매우 느리다"
   ]
  },
  {
   "cell_type": "markdown",
   "id": "c0be6497-6005-435d-a903-ebfd36659185",
   "metadata": {},
   "source": [
    "**주요 Hyperparameter**\n",
    "- random_state: 랜덤 시드 고정 값. 고정해두고 튜닝할 것!\n",
    "- n_jobs: CPU 사용 갯수\n",
    "- learning_rate: 학습율. 너무 큰 학습율은 성능을 떨어뜨리고, 너무 작은 학습율은 학습이 느리다. 적절한 값을 찾아야함. n_estimators와 같이 튜닝. default=0.1\n",
    "- n_estimators: 부스팅 스테이지 수. (랜덤포레스트 트리의 갯수 설정과 비슷한 개념). default=100\n",
    "- max_depth: 트리의 깊이. 과대적합 방지용. default=3. \n",
    "- subsample: 샘플 사용 비율. 과대적합 방지용. default=1.0\n",
    "- max_features: 최대로 사용할 feature의 비율. 과대적합 방지용. default=1.0"
   ]
  },
  {
   "cell_type": "code",
   "execution_count": 75,
   "id": "526c32f2-4561-42d9-bd15-e72727a0f43a",
   "metadata": {},
   "outputs": [
    {
     "name": "stdout",
     "output_type": "stream",
     "text": [
      "Requirement already satisfied: xgboost in /opt/anaconda3/lib/python3.8/site-packages (1.5.2)\n",
      "Requirement already satisfied: numpy in /opt/anaconda3/lib/python3.8/site-packages (from xgboost) (1.20.1)\n",
      "Requirement already satisfied: scipy in /opt/anaconda3/lib/python3.8/site-packages (from xgboost) (1.6.2)\n"
     ]
    }
   ],
   "source": [
    "!pip install xgboost"
   ]
  },
  {
   "cell_type": "code",
   "execution_count": 78,
   "id": "cd0f19af-e9ce-4b72-94dd-5c6e73e16991",
   "metadata": {},
   "outputs": [
    {
     "name": "stdout",
     "output_type": "stream",
     "text": [
      "Requirement already satisfied: xgboost in /opt/anaconda3/lib/python3.8/site-packages (1.5.2)\n",
      "Requirement already satisfied: scipy in /opt/anaconda3/lib/python3.8/site-packages (from xgboost) (1.6.2)\n",
      "Requirement already satisfied: numpy in /opt/anaconda3/lib/python3.8/site-packages (from xgboost) (1.20.1)\n"
     ]
    }
   ],
   "source": [
    "!pip install --upgrade xgboost"
   ]
  },
  {
   "cell_type": "code",
   "execution_count": 77,
   "id": "a155a9e5-9dff-4845-8157-41a4101e5506",
   "metadata": {},
   "outputs": [
    {
     "ename": "XGBoostError",
     "evalue": "\nXGBoost Library (libxgboost.dylib) could not be loaded.\nLikely causes:\n  * OpenMP runtime is not installed\n    - vcomp140.dll or libgomp-1.dll for Windows\n    - libomp.dylib for Mac OSX\n    - libgomp.so for Linux and other UNIX-like OSes\n    Mac OSX users: Run `brew install libomp` to install OpenMP runtime.\n\n  * You are running 32-bit Python on a 64-bit OS\n\nError message(s): ['dlopen(/opt/anaconda3/lib/python3.8/site-packages/xgboost/lib/libxgboost.dylib, 6): Library not loaded: /usr/local/opt/libomp/lib/libomp.dylib\\n  Referenced from: /opt/anaconda3/lib/python3.8/site-packages/xgboost/lib/libxgboost.dylib\\n  Reason: image not found']\n",
     "output_type": "error",
     "traceback": [
      "\u001b[0;31m---------------------------------------------------------------------------\u001b[0m",
      "\u001b[0;31mXGBoostError\u001b[0m                              Traceback (most recent call last)",
      "\u001b[0;32m<ipython-input-77-477fa34615c5>\u001b[0m in \u001b[0;36m<module>\u001b[0;34m\u001b[0m\n\u001b[0;32m----> 1\u001b[0;31m \u001b[0;32mfrom\u001b[0m \u001b[0mxgboost\u001b[0m \u001b[0;32mimport\u001b[0m \u001b[0mXGBClassifier\u001b[0m\u001b[0;34m\u001b[0m\u001b[0;34m\u001b[0m\u001b[0m\n\u001b[0m",
      "\u001b[0;32m/opt/anaconda3/lib/python3.8/site-packages/xgboost/__init__.py\u001b[0m in \u001b[0;36m<module>\u001b[0;34m\u001b[0m\n\u001b[1;32m      7\u001b[0m \u001b[0;32mimport\u001b[0m \u001b[0mos\u001b[0m\u001b[0;34m\u001b[0m\u001b[0;34m\u001b[0m\u001b[0m\n\u001b[1;32m      8\u001b[0m \u001b[0;34m\u001b[0m\u001b[0m\n\u001b[0;32m----> 9\u001b[0;31m \u001b[0;32mfrom\u001b[0m \u001b[0;34m.\u001b[0m\u001b[0mcore\u001b[0m \u001b[0;32mimport\u001b[0m \u001b[0mDMatrix\u001b[0m\u001b[0;34m,\u001b[0m \u001b[0mDeviceQuantileDMatrix\u001b[0m\u001b[0;34m,\u001b[0m \u001b[0mBooster\u001b[0m\u001b[0;34m,\u001b[0m \u001b[0mDataIter\u001b[0m\u001b[0;34m\u001b[0m\u001b[0;34m\u001b[0m\u001b[0m\n\u001b[0m\u001b[1;32m     10\u001b[0m \u001b[0;32mfrom\u001b[0m \u001b[0;34m.\u001b[0m\u001b[0mtraining\u001b[0m \u001b[0;32mimport\u001b[0m \u001b[0mtrain\u001b[0m\u001b[0;34m,\u001b[0m \u001b[0mcv\u001b[0m\u001b[0;34m\u001b[0m\u001b[0;34m\u001b[0m\u001b[0m\n\u001b[1;32m     11\u001b[0m \u001b[0;32mfrom\u001b[0m \u001b[0;34m.\u001b[0m \u001b[0;32mimport\u001b[0m \u001b[0mrabit\u001b[0m  \u001b[0;31m# noqa\u001b[0m\u001b[0;34m\u001b[0m\u001b[0;34m\u001b[0m\u001b[0m\n",
      "\u001b[0;32m/opt/anaconda3/lib/python3.8/site-packages/xgboost/core.py\u001b[0m in \u001b[0;36m<module>\u001b[0;34m\u001b[0m\n\u001b[1;32m    201\u001b[0m \u001b[0;34m\u001b[0m\u001b[0m\n\u001b[1;32m    202\u001b[0m \u001b[0;31m# load the XGBoost library globally\u001b[0m\u001b[0;34m\u001b[0m\u001b[0;34m\u001b[0m\u001b[0;34m\u001b[0m\u001b[0m\n\u001b[0;32m--> 203\u001b[0;31m \u001b[0m_LIB\u001b[0m \u001b[0;34m=\u001b[0m \u001b[0m_load_lib\u001b[0m\u001b[0;34m(\u001b[0m\u001b[0;34m)\u001b[0m\u001b[0;34m\u001b[0m\u001b[0;34m\u001b[0m\u001b[0m\n\u001b[0m\u001b[1;32m    204\u001b[0m \u001b[0;34m\u001b[0m\u001b[0m\n\u001b[1;32m    205\u001b[0m \u001b[0;34m\u001b[0m\u001b[0m\n",
      "\u001b[0;32m/opt/anaconda3/lib/python3.8/site-packages/xgboost/core.py\u001b[0m in \u001b[0;36m_load_lib\u001b[0;34m()\u001b[0m\n\u001b[1;32m    179\u001b[0m     \u001b[0;32mif\u001b[0m \u001b[0;32mnot\u001b[0m \u001b[0mlib_success\u001b[0m\u001b[0;34m:\u001b[0m\u001b[0;34m\u001b[0m\u001b[0;34m\u001b[0m\u001b[0m\n\u001b[1;32m    180\u001b[0m         \u001b[0mlibname\u001b[0m \u001b[0;34m=\u001b[0m \u001b[0mos\u001b[0m\u001b[0;34m.\u001b[0m\u001b[0mpath\u001b[0m\u001b[0;34m.\u001b[0m\u001b[0mbasename\u001b[0m\u001b[0;34m(\u001b[0m\u001b[0mlib_paths\u001b[0m\u001b[0;34m[\u001b[0m\u001b[0;36m0\u001b[0m\u001b[0;34m]\u001b[0m\u001b[0;34m)\u001b[0m\u001b[0;34m\u001b[0m\u001b[0;34m\u001b[0m\u001b[0m\n\u001b[0;32m--> 181\u001b[0;31m         raise XGBoostError(\n\u001b[0m\u001b[1;32m    182\u001b[0m             f\"\"\"\n\u001b[1;32m    183\u001b[0m \u001b[0mXGBoost\u001b[0m \u001b[0mLibrary\u001b[0m \u001b[0;34m(\u001b[0m\u001b[0;34m{\u001b[0m\u001b[0mlibname\u001b[0m\u001b[0;34m}\u001b[0m\u001b[0;34m)\u001b[0m \u001b[0mcould\u001b[0m \u001b[0;32mnot\u001b[0m \u001b[0mbe\u001b[0m \u001b[0mloaded\u001b[0m\u001b[0;34m.\u001b[0m\u001b[0;34m\u001b[0m\u001b[0;34m\u001b[0m\u001b[0m\n",
      "\u001b[0;31mXGBoostError\u001b[0m: \nXGBoost Library (libxgboost.dylib) could not be loaded.\nLikely causes:\n  * OpenMP runtime is not installed\n    - vcomp140.dll or libgomp-1.dll for Windows\n    - libomp.dylib for Mac OSX\n    - libgomp.so for Linux and other UNIX-like OSes\n    Mac OSX users: Run `brew install libomp` to install OpenMP runtime.\n\n  * You are running 32-bit Python on a 64-bit OS\n\nError message(s): ['dlopen(/opt/anaconda3/lib/python3.8/site-packages/xgboost/lib/libxgboost.dylib, 6): Library not loaded: /usr/local/opt/libomp/lib/libomp.dylib\\n  Referenced from: /opt/anaconda3/lib/python3.8/site-packages/xgboost/lib/libxgboost.dylib\\n  Reason: image not found']\n"
     ]
    }
   ],
   "source": [
    "from xgboost import XGBClassifier"
   ]
  },
  {
   "cell_type": "code",
   "execution_count": 74,
   "id": "9b3e7d44-6f0d-4d20-98c4-afdb224382ca",
   "metadata": {},
   "outputs": [
    {
     "ename": "NameError",
     "evalue": "name 'XGBClassifier' is not defined",
     "output_type": "error",
     "traceback": [
      "\u001b[0;31m---------------------------------------------------------------------------\u001b[0m",
      "\u001b[0;31mNameError\u001b[0m                                 Traceback (most recent call last)",
      "\u001b[0;32m<ipython-input-74-7961b06814d6>\u001b[0m in \u001b[0;36m<module>\u001b[0;34m\u001b[0m\n\u001b[0;32m----> 1\u001b[0;31m \u001b[0mxgb\u001b[0m \u001b[0;34m=\u001b[0m \u001b[0mXGBClassifier\u001b[0m\u001b[0;34m(\u001b[0m\u001b[0mn_estimators\u001b[0m\u001b[0;34m=\u001b[0m\u001b[0;36m3\u001b[0m\u001b[0;34m,\u001b[0m \u001b[0mrandom_state\u001b[0m\u001b[0;34m=\u001b[0m\u001b[0;36m42\u001b[0m\u001b[0;34m)\u001b[0m\u001b[0;34m\u001b[0m\u001b[0;34m\u001b[0m\u001b[0m\n\u001b[0m\u001b[1;32m      2\u001b[0m \u001b[0mxgb\u001b[0m\u001b[0;34m.\u001b[0m\u001b[0mfit\u001b[0m\u001b[0;34m(\u001b[0m\u001b[0mX_train\u001b[0m\u001b[0;34m,\u001b[0m \u001b[0my_train\u001b[0m\u001b[0;34m)\u001b[0m\u001b[0;34m\u001b[0m\u001b[0;34m\u001b[0m\u001b[0m\n",
      "\u001b[0;31mNameError\u001b[0m: name 'XGBClassifier' is not defined"
     ]
    }
   ],
   "source": [
    "xgb = XGBClassifier(n_estimators=3, random_state=42)  \n",
    "xgb.fit(X_train, y_train)"
   ]
  },
  {
   "cell_type": "code",
   "execution_count": null,
   "id": "a1711fa5-8bbb-41de-8195-274243fd8d59",
   "metadata": {},
   "outputs": [],
   "source": [
    "xgb_pred = xgb.predict(X_test)"
   ]
  },
  {
   "cell_type": "code",
   "execution_count": null,
   "id": "01e2fa13-c6f3-4dcf-96cc-c93eb0ce2c59",
   "metadata": {},
   "outputs": [],
   "source": [
    "accuracy_eval('XGBoost', xgb_pred, y_test)"
   ]
  },
  {
   "cell_type": "code",
   "execution_count": null,
   "id": "06b68366-42b1-4d2b-824b-97de22d484ea",
   "metadata": {},
   "outputs": [],
   "source": [
    "###  \n",
    "### 6) Light GBM\n",
    "+ XGBoost와 함께 주목받는 DecisionTree 알고리즘 기반의 Boosting 앙상블 기법\n",
    "+ XGBoost에 비해 학습시간이 짧은 편이다."
   ]
  },
  {
   "cell_type": "code",
   "execution_count": null,
   "id": "58d4a1a7-e133-4015-8f8f-4269c453e315",
   "metadata": {},
   "outputs": [],
   "source": [
    "**주요 특징**\n",
    "- scikit-learn 패키지가 아닙니다.\n",
    "- 성능이 우수함\n",
    "- 속도도 매우 빠릅니다."
   ]
  },
  {
   "cell_type": "code",
   "execution_count": null,
   "id": "a89e96c4-9843-49f2-92e0-d3d629839d63",
   "metadata": {},
   "outputs": [],
   "source": [
    "**주요 Hyperparameter**\n",
    "- random_state: 랜덤 시드 고정 값. 고정해두고 튜닝할 것!\n",
    "- n_jobs: CPU 사용 갯수\n",
    "- learning_rate: 학습율. 너무 큰 학습율은 성능을 떨어뜨리고, 너무 작은 학습율은 학습이 느리다. 적절한 값을 찾아야함. n_estimators와 같이 튜닝. default=0.1\n",
    "- n_estimators: 부스팅 스테이지 수. (랜덤포레스트 트리의 갯수 설정과 비슷한 개념). default=100\n",
    "- max_depth: 트리의 깊이. 과대적합 방지용. default=3. \n",
    "- colsample_bytree: 샘플 사용 비율 (max_features와 비슷한 개념). 과대적합 방지용. default=1.0"
   ]
  },
  {
   "cell_type": "code",
   "execution_count": null,
   "id": "236618cc-8e20-4b9b-8d27-ddaf31903d34",
   "metadata": {},
   "outputs": [],
   "source": [
    "!pip install lightgbm"
   ]
  },
  {
   "cell_type": "code",
   "execution_count": null,
   "id": "9422b0b7-1ac5-40a3-84a0-d0d8d3cf1ed6",
   "metadata": {},
   "outputs": [],
   "source": [
    "from lightgbm import LGBMClassifier"
   ]
  },
  {
   "cell_type": "code",
   "execution_count": null,
   "id": "4f5a192c-31aa-4a30-a8aa-8e3f7c814493",
   "metadata": {},
   "outputs": [],
   "source": [
    "lgbm = LGBMClassifier(n_estimators=3, random_state=42)  \n",
    "lgbm.fit(X_train, y_train)"
   ]
  },
  {
   "cell_type": "code",
   "execution_count": null,
   "id": "3d335f8d-0f3a-4b59-9a4b-4584acc02f75",
   "metadata": {},
   "outputs": [],
   "source": [
    "lgbm_pred = lgbm.predict(X_test)"
   ]
  },
  {
   "cell_type": "code",
   "execution_count": null,
   "id": "a61da524-6ca4-48ff-a23f-ebaaf49671d5",
   "metadata": {},
   "outputs": [],
   "source": [
    "accuracy_eval('LGBM', lgbm_pred, y_test)"
   ]
  },
  {
   "cell_type": "code",
   "execution_count": null,
   "id": "12c7bd97-06ab-4ab7-a527-dfe2dacdbb9f",
   "metadata": {},
   "outputs": [],
   "source": [
    "#### \n",
    "### 7) Stacking"
   ]
  },
  {
   "cell_type": "code",
   "execution_count": null,
   "id": "8b043f61-7fea-4838-9ec5-7c69d41f542b",
   "metadata": {},
   "outputs": [],
   "source": [
    "개별 모델이 예측한 데이터를 기반으로 **final_estimator** 종합하여 예측을 수행합니다.\n",
    "- 성능을 극으로 끌어올릴 때 활용하기도 합니다.\n",
    "- 과대적합을 유발할 수 있습니다. (특히, 데이터셋이 적은 경우)"
   ]
  },
  {
   "cell_type": "code",
   "execution_count": null,
   "id": "2e78bfc7-3c02-4982-846e-a50700aec562",
   "metadata": {},
   "outputs": [],
   "source": [
    "from sklearn.ensemble import StackingRegressor, StackingClassifier"
   ]
  },
  {
   "cell_type": "code",
   "execution_count": null,
   "id": "edd25420-e104-4726-8b65-1b49f06057a4",
   "metadata": {},
   "outputs": [],
   "source": [
    "stack_models = [\n",
    "    ('LogisticRegression', lg), \n",
    "    ('KNN', knn), \n",
    "    ('DecisionTree', dt),\n",
    "]"
   ]
  },
  {
   "cell_type": "code",
   "execution_count": null,
   "id": "8e08d230-e04a-4c11-9103-675011839f5d",
   "metadata": {},
   "outputs": [],
   "source": [
    "# stack_models로 선언된 모델(LogisticRegression,KNN,DecisionTree)의 예측결과를 최종 meta_model(final_estimator)을 RandomForest(rfc) 사용하여 분류 예측 \n",
    "stacking = StackingClassifier(stack_models, final_estimator=rfc, n_jobs=-1)"
   ]
  },
  {
   "cell_type": "code",
   "execution_count": null,
   "id": "0ece0913-afbb-4494-b5ae-726ee2458d5e",
   "metadata": {},
   "outputs": [],
   "source": [
    "stacking.fit(X_train, y_train)   # 1분 20초 소요"
   ]
  },
  {
   "cell_type": "code",
   "execution_count": null,
   "id": "8659f184-42bc-43a2-a114-48e2ac9250a2",
   "metadata": {},
   "outputs": [],
   "source": [
    "stacking_pred = stacking.predict(X_test)"
   ]
  },
  {
   "cell_type": "code",
   "execution_count": null,
   "id": "f718e688-bb45-44c8-93bb-49ac02082e8e",
   "metadata": {},
   "outputs": [],
   "source": [
    "accuracy_eval('Stacking Ensemble', stacking_pred, y_test)"
   ]
  },
  {
   "cell_type": "code",
   "execution_count": null,
   "id": "8a3bf32c-8199-4954-9e04-7befdfa46f19",
   "metadata": {},
   "outputs": [],
   "source": [
    "#### \n",
    "### 8) Weighted Blending"
   ]
  },
  {
   "cell_type": "code",
   "execution_count": null,
   "id": "ab3877af-20e1-4e7e-9870-0a3c61f33c9e",
   "metadata": {},
   "outputs": [],
   "source": [
    "각 모델의 예측값에 대하여 weight를 곱하여 최종 output 계산\n",
    "- 모델에 대한 가중치를 조절하여, 최종 output을 산출합니다.\n",
    "- **가중치의 합은 1.0**이 되도록 합니다."
   ]
  },
  {
   "cell_type": "code",
   "execution_count": null,
   "id": "b999414c-db58-4659-b9bd-b83de1e27b38",
   "metadata": {},
   "outputs": [],
   "source": [
    "final_outputs = {\n",
    "    'DecisionTree': dt_pred, \n",
    "    'randomforest': rfc_pred, \n",
    "    'xgb': xgb_pred, \n",
    "    'lgbm': lgbm_pred,\n",
    "    'stacking': stacking_pred,\n",
    "}"
   ]
  },
  {
   "cell_type": "code",
   "execution_count": null,
   "id": "962f6d2c-07fd-450a-931a-80729d4c1612",
   "metadata": {},
   "outputs": [],
   "source": [
    "final_prediction=\\\n",
    "final_outputs['DecisionTree'] * 0.1\\\n",
    "+final_outputs['randomforest'] * 0.2\\\n",
    "+final_outputs['xgb'] * 0.25\\\n",
    "+final_outputs['lgbm'] * 0.15\\\n",
    "+final_outputs['stacking'] * 0.3\\"
   ]
  },
  {
   "cell_type": "code",
   "execution_count": null,
   "id": "ee3eab6c-0589-451e-8ad6-2e4890968a09",
   "metadata": {},
   "outputs": [],
   "source": [
    "# 가중치 계산값이 0.5 초과하면 1, 그렇지 않으면 0\n",
    "final_prediction = np.where(final_prediction > 0.5, 1, 0)"
   ]
  },
  {
   "cell_type": "code",
   "execution_count": null,
   "id": "ac34dc04-9566-4f07-a2f1-4dedb95d55b4",
   "metadata": {},
   "outputs": [],
   "source": [
    "accuracy_eval('Weighted Blending', final_prediction, y_test)"
   ]
  },
  {
   "cell_type": "markdown",
   "id": "8b068633-1a76-44d3-8ca7-f5fac88cc9da",
   "metadata": {},
   "source": [
    "## \n",
    "## 배운 내용 정리\n",
    "1. 머신러닝 모델 프로세스 <br>\n",
    "① 라이브러리 임포트(import)  \n",
    "② 데이터 가져오기(Loading the data)  \n",
    "③ 탐색적 데이터 분석(Exploratory Data Analysis)  \n",
    "④ 데이터 전처리(Data PreProcessing) : 데이터타입 변환, Null 데이터 처리, 누락데이터 처리, \n",
    "더미특성 생성, 특성 추출 (feature engineering) 등  \n",
    "⑤ Train, Test  데이터셋 분할  \n",
    "⑥ 데이터 정규화(Normalizing the Data)  \n",
    "⑦ 모델 개발(Creating the Model)  \n",
    "⑧ 모델 성능 평가\n",
    "2. 평가 지표 활용 : 모델별 성능 확인을 위한 함수 (가져다 쓰면 된다)\n",
    "3. 단일 회귀예측 모델 : LogisticRegression, KNN, DecisionTree\n",
    "4. 앙상블 (Ensemble) : RandomForest, XGBoost, LGBM, Stacking, Weighted Blending"
   ]
  }
 ],
 "metadata": {
  "kernelspec": {
   "display_name": "Python 3",
   "language": "python",
   "name": "python3"
  },
  "language_info": {
   "codemirror_mode": {
    "name": "ipython",
    "version": 3
   },
   "file_extension": ".py",
   "mimetype": "text/x-python",
   "name": "python",
   "nbconvert_exporter": "python",
   "pygments_lexer": "ipython3",
   "version": "3.8.8"
  }
 },
 "nbformat": 4,
 "nbformat_minor": 5
}
