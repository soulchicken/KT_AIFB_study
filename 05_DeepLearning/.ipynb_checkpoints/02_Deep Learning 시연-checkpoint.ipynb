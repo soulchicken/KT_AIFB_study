{
 "cells": [
  {
   "cell_type": "markdown",
   "id": "4bdcb44a-06d9-4afb-9d31-1e087f54617a",
   "metadata": {},
   "source": [
    "# \n",
    "# 1. 실습을 위한 KT AIDU 환경변수 설정"
   ]
  },
  {
   "cell_type": "code",
   "execution_count": null,
   "id": "5cd39937-a765-478d-b786-5ce62914759c",
   "metadata": {},
   "outputs": [],
   "source": [
    "# 코드실행시 경고 메시지 무시\n",
    "\n",
    "import warnings\n",
    "warnings.filterwarnings(action='ignore') "
   ]
  },
  {
   "cell_type": "markdown",
   "id": "95bdfd58-d678-4c6d-a698-479ce3af9fda",
   "metadata": {},
   "source": [
    "##### AIDU 라이브러리 임포트"
   ]
  },
  {
   "cell_type": "code",
   "execution_count": null,
   "id": "61c8815f-550d-435d-8dae-d765bafb6df6",
   "metadata": {},
   "outputs": [],
   "source": [
    "from aicentro.session import Session\n",
    "from aicentro.framework.keras import Keras as AiduFrm\n",
    "\n",
    "aidu_session = Session(verify=False)\n",
    "aidu_framework = AiduFrm(session=aidu_session)"
   ]
  },
  {
   "cell_type": "code",
   "execution_count": null,
   "id": "c3d30874-0dca-4d30-8831-ac2f85e1d5e1",
   "metadata": {},
   "outputs": [],
   "source": [
    "##### AIDU 디렉토리 환경변수\n",
    "\n",
    "- data 경로:         aidu_framework.config.data_dir"
   ]
  },
  {
   "cell_type": "code",
   "execution_count": null,
   "id": "af3a455e-8a38-4542-b6a2-98f5b1c0b5bc",
   "metadata": {},
   "outputs": [],
   "source": [
    "# aidu_framework.config.data_dir 내용 확인\n",
    "aidu_framework.config.data_dir"
   ]
  },
  {
   "cell_type": "markdown",
   "id": "41fa7670-4c3a-4db5-8659-3208edec2f10",
   "metadata": {},
   "source": [
    "# \n",
    "# 2. 딥러닝 심층신경망(DNN) 모델 프로세스\n",
    "① 라이브러리 임포트(import)  \n",
    "② 데이터 가져오기(Loading the data)  \n",
    "③ 탐색적 데이터 분석(Exploratory Data Analysis)  \n",
    "④ 데이터 전처리(Data PreProcessing) : 데이터타입 변환, Null 데이터 처리, 누락데이터 처리, \n",
    "더미특성 생성, 특성 추출 (feature engineering) 등  \n",
    "⑤ Train, Test  데이터셋 분할  \n",
    "⑥ 데이터 정규화(Normalizing the Data)  \n",
    "⑦ 모델 개발(Creating the Model)  \n",
    "⑧ 모델 성능 평가"
   ]
  },
  {
   "cell_type": "markdown",
   "id": "b0fc3548-5ab3-4bd7-9b18-db88f1865f97",
   "metadata": {},
   "source": [
    "## ① 라이브러리 임포트"
   ]
  },
  {
   "cell_type": "markdown",
   "id": "7c800958-e1b8-4ed3-9fa8-a8f55064721c",
   "metadata": {},
   "source": [
    "##### 필요 라이브러리 임포트"
   ]
  },
  {
   "cell_type": "code",
   "execution_count": 2,
   "id": "7bfe135e-84c8-4d37-a20d-8dbab6b7a965",
   "metadata": {},
   "outputs": [],
   "source": [
    "import numpy as np\n",
    "import pandas as pd\n",
    "import matplotlib.pyplot as plt"
   ]
  },
  {
   "cell_type": "markdown",
   "id": "df677c39-cf3a-4dd6-985b-2c763d9d0b63",
   "metadata": {},
   "source": [
    "## ② 데이터 로드"
   ]
  },
  {
   "cell_type": "markdown",
   "id": "b9d421f0-8ea4-4d52-a89e-5b1181f34790",
   "metadata": {},
   "source": [
    "#### cust_data.csv 파일 컬럼명\n",
    "+ 고객등급(class), 성별(sex), 나이(age), 사용서비스수(service), 서비스중지여부 (stop), 미납여부(npay)\n",
    "+ 3개월 평균 요금(avg_bill), A서비스 3개월 평균요금(A_bill), B서비스 3개월 평균요금(B_bill), 해지여부(termination)"
   ]
  },
  {
   "cell_type": "markdown",
   "id": "ad5bf3b9-5b5f-408c-a1fa-223cb6e36af1",
   "metadata": {},
   "source": [
    "##### <font color=blue> **[문제] 같은 폴더내에 있는 cust_data.csv 파일을 Pandas read_csv 함수를 이용하여 읽어 df 변수에 저장하세요.** </font>"
   ]
  },
  {
   "cell_type": "code",
   "execution_count": 3,
   "id": "671b5eac-6c50-42f7-a58c-869617123ef3",
   "metadata": {},
   "outputs": [],
   "source": [
    "# 읽어 들일 파일명 : cust_data.csv\n",
    "# Pandas read_csv 함수 활용\n",
    "# 결과 : df 저장\n",
    "\n",
    "\n",
    "df = pd.read_csv('cust_data.csv')"
   ]
  },
  {
   "cell_type": "markdown",
   "id": "60219e91-8ddb-4ebf-8404-ac104c3a0b77",
   "metadata": {},
   "source": [
    "## ③ 데이터 분석"
   ]
  },
  {
   "cell_type": "code",
   "execution_count": 4,
   "id": "3507f22c-c501-4920-bd20-09f6ed2d85dc",
   "metadata": {},
   "outputs": [
    {
     "name": "stdout",
     "output_type": "stream",
     "text": [
      "<class 'pandas.core.frame.DataFrame'>\n",
      "RangeIndex: 7814 entries, 0 to 7813\n",
      "Data columns (total 12 columns):\n",
      " #   Column       Non-Null Count  Dtype  \n",
      "---  ------       --------------  -----  \n",
      " 0   class        7814 non-null   object \n",
      " 1   sex          7814 non-null   object \n",
      " 2   age          7814 non-null   int64  \n",
      " 3   service      7814 non-null   int64  \n",
      " 4   stop         7814 non-null   object \n",
      " 5   npay         7814 non-null   object \n",
      " 6   avg_bill     7814 non-null   float64\n",
      " 7   A_bill       7814 non-null   float64\n",
      " 8   B_bill       7814 non-null   float64\n",
      " 9   termination  7814 non-null   object \n",
      " 10  by_age       7814 non-null   int64  \n",
      " 11  bill_rating  7814 non-null   object \n",
      "dtypes: float64(3), int64(3), object(6)\n",
      "memory usage: 732.7+ KB\n"
     ]
    }
   ],
   "source": [
    "# 12컬럼, 7814 라인\n",
    "df.info()"
   ]
  },
  {
   "cell_type": "code",
   "execution_count": 5,
   "id": "37b08836-d4f5-4442-945c-2a9224f4f4e4",
   "metadata": {},
   "outputs": [
    {
     "data": {
      "text/html": [
       "<div>\n",
       "<style scoped>\n",
       "    .dataframe tbody tr th:only-of-type {\n",
       "        vertical-align: middle;\n",
       "    }\n",
       "\n",
       "    .dataframe tbody tr th {\n",
       "        vertical-align: top;\n",
       "    }\n",
       "\n",
       "    .dataframe thead th {\n",
       "        text-align: right;\n",
       "    }\n",
       "</style>\n",
       "<table border=\"1\" class=\"dataframe\">\n",
       "  <thead>\n",
       "    <tr style=\"text-align: right;\">\n",
       "      <th></th>\n",
       "      <th>class</th>\n",
       "      <th>sex</th>\n",
       "      <th>age</th>\n",
       "      <th>service</th>\n",
       "      <th>stop</th>\n",
       "      <th>npay</th>\n",
       "      <th>avg_bill</th>\n",
       "      <th>A_bill</th>\n",
       "      <th>B_bill</th>\n",
       "      <th>termination</th>\n",
       "      <th>by_age</th>\n",
       "      <th>bill_rating</th>\n",
       "    </tr>\n",
       "  </thead>\n",
       "  <tbody>\n",
       "    <tr>\n",
       "      <th>7809</th>\n",
       "      <td>C</td>\n",
       "      <td>M</td>\n",
       "      <td>76</td>\n",
       "      <td>1</td>\n",
       "      <td>N</td>\n",
       "      <td>N</td>\n",
       "      <td>1860.0000</td>\n",
       "      <td>1716.000000</td>\n",
       "      <td>0.0000</td>\n",
       "      <td>N</td>\n",
       "      <td>75</td>\n",
       "      <td>low</td>\n",
       "    </tr>\n",
       "    <tr>\n",
       "      <th>7810</th>\n",
       "      <td>C</td>\n",
       "      <td>F</td>\n",
       "      <td>15</td>\n",
       "      <td>1</td>\n",
       "      <td>N</td>\n",
       "      <td>Y</td>\n",
       "      <td>1296.0999</td>\n",
       "      <td>194.414985</td>\n",
       "      <td>643.1001</td>\n",
       "      <td>N</td>\n",
       "      <td>15</td>\n",
       "      <td>low</td>\n",
       "    </tr>\n",
       "    <tr>\n",
       "      <th>7811</th>\n",
       "      <td>G</td>\n",
       "      <td>M</td>\n",
       "      <td>12</td>\n",
       "      <td>1</td>\n",
       "      <td>N</td>\n",
       "      <td>N</td>\n",
       "      <td>13799.6666</td>\n",
       "      <td>2069.949990</td>\n",
       "      <td>10605.9266</td>\n",
       "      <td>N</td>\n",
       "      <td>10</td>\n",
       "      <td>midhigh</td>\n",
       "    </tr>\n",
       "    <tr>\n",
       "      <th>7812</th>\n",
       "      <td>C</td>\n",
       "      <td>F</td>\n",
       "      <td>40</td>\n",
       "      <td>0</td>\n",
       "      <td>N</td>\n",
       "      <td>N</td>\n",
       "      <td>3140.0000</td>\n",
       "      <td>942.000000</td>\n",
       "      <td>1884.0000</td>\n",
       "      <td>Y</td>\n",
       "      <td>40</td>\n",
       "      <td>low</td>\n",
       "    </tr>\n",
       "    <tr>\n",
       "      <th>7813</th>\n",
       "      <td>C</td>\n",
       "      <td>F</td>\n",
       "      <td>59</td>\n",
       "      <td>1</td>\n",
       "      <td>N</td>\n",
       "      <td>N</td>\n",
       "      <td>2436.9000</td>\n",
       "      <td>365.535000</td>\n",
       "      <td>1839.9000</td>\n",
       "      <td>N</td>\n",
       "      <td>55</td>\n",
       "      <td>low</td>\n",
       "    </tr>\n",
       "  </tbody>\n",
       "</table>\n",
       "</div>"
      ],
      "text/plain": [
       "     class sex  age  service stop npay    avg_bill       A_bill      B_bill  \\\n",
       "7809     C   M   76        1    N    N   1860.0000  1716.000000      0.0000   \n",
       "7810     C   F   15        1    N    Y   1296.0999   194.414985    643.1001   \n",
       "7811     G   M   12        1    N    N  13799.6666  2069.949990  10605.9266   \n",
       "7812     C   F   40        0    N    N   3140.0000   942.000000   1884.0000   \n",
       "7813     C   F   59        1    N    N   2436.9000   365.535000   1839.9000   \n",
       "\n",
       "     termination  by_age bill_rating  \n",
       "7809           N      75         low  \n",
       "7810           N      15         low  \n",
       "7811           N      10     midhigh  \n",
       "7812           Y      40         low  \n",
       "7813           N      55         low  "
      ]
     },
     "execution_count": 5,
     "metadata": {},
     "output_type": "execute_result"
    }
   ],
   "source": [
    "df.tail()"
   ]
  },
  {
   "cell_type": "code",
   "execution_count": 6,
   "id": "4626f1a2-5cc5-4652-8e2a-fffb40036afe",
   "metadata": {},
   "outputs": [
    {
     "data": {
      "text/plain": [
       "<AxesSubplot:>"
      ]
     },
     "execution_count": 6,
     "metadata": {},
     "output_type": "execute_result"
    },
    {
     "data": {
      "image/png": "[encoded data removed]",
      "text/plain": [
       "<Figure size 432x288 with 1 Axes>"
      ]
     },
     "metadata": {
      "needs_background": "light"
     },
     "output_type": "display_data"
    }
   ],
   "source": [
    "# termination 레이블 불균형 \n",
    "df['termination'].value_counts().plot(kind='bar')"
   ]
  },
  {
   "cell_type": "markdown",
   "id": "d9155f78-2ae4-448b-9c8b-ebd914d670cf",
   "metadata": {},
   "source": [
    "## ④ 데이터 전처리"
   ]
  },
  {
   "cell_type": "markdown",
   "id": "306cc8df-6302-4433-a36e-8fe7a1227e17",
   "metadata": {},
   "source": [
    "+ Object 컬럼에 대해 Pandas get_dummies 함수 활용하여 One-Hot-Encoding"
   ]
  },
  {
   "cell_type": "code",
   "execution_count": 7,
   "id": "70e41beb-8c12-4dfd-b4c1-25dbb57269f9",
   "metadata": {},
   "outputs": [],
   "source": [
    "# Object 컬럼 리스트 정의\n",
    "cal_cols = ['class', 'sex', 'stop', 'npay', 'termination', 'bill_rating']"
   ]
  },
  {
   "cell_type": "markdown",
   "id": "62052ef1-bda2-4e09-8235-1485c6c2d90d",
   "metadata": {},
   "source": [
    "##### <font color=blue> **[문제] ['class', 'sex', 'stop', 'npay', 'termination', 'bill_rating'] 컬럼에 대해 One-Hot-Encoding 수행하고 그 결과를 df1 변수에 저장하세요.** </font>"
   ]
  },
  {
   "cell_type": "code",
   "execution_count": 8,
   "id": "c2afc54b-6f7b-4670-a19b-a79d7558d0b8",
   "metadata": {},
   "outputs": [],
   "source": [
    "# ['class', 'sex', 'stop', 'npay', 'termination', 'bill_rating'] : cal_cols 변수에 대해 One-Hot-Endcoding 수행\n",
    "# One-Hot-Endcoding 수행 : pandas get_dummies() 함수 이용\n",
    "# get_dummies() 함수 옵션 : data=df, columns=cal_cols, drop_first=True\n",
    "# 결과 : df1 저장\n",
    "\n",
    "\n",
    "\n",
    "df1 = pd.get_dummies(data=df, columns=cal_cols, drop_first=True)"
   ]
  },
  {
   "cell_type": "code",
   "execution_count": 9,
   "id": "4b7cd6a3-10b7-41d4-98ff-45ffeb586762",
   "metadata": {},
   "outputs": [
    {
     "name": "stdout",
     "output_type": "stream",
     "text": [
      "<class 'pandas.core.frame.DataFrame'>\n",
      "RangeIndex: 7814 entries, 0 to 7813\n",
      "Data columns (total 19 columns):\n",
      " #   Column               Non-Null Count  Dtype  \n",
      "---  ------               --------------  -----  \n",
      " 0   age                  7814 non-null   int64  \n",
      " 1   service              7814 non-null   int64  \n",
      " 2   avg_bill             7814 non-null   float64\n",
      " 3   A_bill               7814 non-null   float64\n",
      " 4   B_bill               7814 non-null   float64\n",
      " 5   by_age               7814 non-null   int64  \n",
      " 6   class_D              7814 non-null   uint8  \n",
      " 7   class_E              7814 non-null   uint8  \n",
      " 8   class_F              7814 non-null   uint8  \n",
      " 9   class_G              7814 non-null   uint8  \n",
      " 10  class_H              7814 non-null   uint8  \n",
      " 11  sex_M                7814 non-null   uint8  \n",
      " 12  stop_Y               7814 non-null   uint8  \n",
      " 13  npay_Y               7814 non-null   uint8  \n",
      " 14  termination_Y        7814 non-null   uint8  \n",
      " 15  bill_rating_low      7814 non-null   uint8  \n",
      " 16  bill_rating_lowmid   7814 non-null   uint8  \n",
      " 17  bill_rating_mid      7814 non-null   uint8  \n",
      " 18  bill_rating_midhigh  7814 non-null   uint8  \n",
      "dtypes: float64(3), int64(3), uint8(13)\n",
      "memory usage: 465.6 KB\n"
     ]
    }
   ],
   "source": [
    "# 19컬럼, 7814 라인\n",
    "df1.info()"
   ]
  },
  {
   "cell_type": "markdown",
   "id": "836ba3c1-3a74-4a6a-b28e-b048638bc5dd",
   "metadata": {},
   "source": [
    "## ⑤ Train, Test  데이터셋 분할"
   ]
  },
  {
   "cell_type": "code",
   "execution_count": 10,
   "id": "0c2bfa2f-dd37-4a9b-8390-49281ce6d828",
   "metadata": {},
   "outputs": [],
   "source": [
    "from sklearn.model_selection import train_test_split"
   ]
  },
  {
   "cell_type": "code",
   "execution_count": 11,
   "id": "310eb2eb-c283-4847-81ce-414ebce2e719",
   "metadata": {},
   "outputs": [],
   "source": [
    "X = df1.drop('termination_Y', axis=1).values\n",
    "y = df1['termination_Y'].values"
   ]
  },
  {
   "cell_type": "code",
   "execution_count": 12,
   "id": "b9c97761-5c74-4af1-9088-12014d8b4633",
   "metadata": {},
   "outputs": [],
   "source": [
    "X_train, X_test, y_train, y_test = train_test_split(X, y, \n",
    "                                                    test_size=0.3, \n",
    "                                                    stratify=y,\n",
    "                                                    random_state=42)"
   ]
  },
  {
   "cell_type": "code",
   "execution_count": 13,
   "id": "4e73afb4-6f67-42eb-8a53-3c0c59435af5",
   "metadata": {},
   "outputs": [
    {
     "data": {
      "text/plain": [
       "(5469, 18)"
      ]
     },
     "execution_count": 13,
     "metadata": {},
     "output_type": "execute_result"
    }
   ],
   "source": [
    "X_train.shape"
   ]
  },
  {
   "cell_type": "code",
   "execution_count": 14,
   "id": "9cb5700e-7a04-4e18-81a0-d122d9e0c680",
   "metadata": {},
   "outputs": [
    {
     "data": {
      "text/plain": [
       "(5469,)"
      ]
     },
     "execution_count": 14,
     "metadata": {},
     "output_type": "execute_result"
    }
   ],
   "source": [
    "y_train.shape"
   ]
  },
  {
   "cell_type": "markdown",
   "id": "91be3cb3-7ead-4a97-8286-788a36459dc4",
   "metadata": {},
   "source": [
    "## ⑥ 데이터 정규화/스케일링(Normalizing/Scaling)"
   ]
  },
  {
   "cell_type": "code",
   "execution_count": 15,
   "id": "e4574ea9-660e-43a1-9aca-aa90a2bfa976",
   "metadata": {},
   "outputs": [
    {
     "data": {
      "text/html": [
       "<div>\n",
       "<style scoped>\n",
       "    .dataframe tbody tr th:only-of-type {\n",
       "        vertical-align: middle;\n",
       "    }\n",
       "\n",
       "    .dataframe tbody tr th {\n",
       "        vertical-align: top;\n",
       "    }\n",
       "\n",
       "    .dataframe thead th {\n",
       "        text-align: right;\n",
       "    }\n",
       "</style>\n",
       "<table border=\"1\" class=\"dataframe\">\n",
       "  <thead>\n",
       "    <tr style=\"text-align: right;\">\n",
       "      <th></th>\n",
       "      <th>age</th>\n",
       "      <th>service</th>\n",
       "      <th>avg_bill</th>\n",
       "      <th>A_bill</th>\n",
       "      <th>B_bill</th>\n",
       "      <th>by_age</th>\n",
       "      <th>class_D</th>\n",
       "      <th>class_E</th>\n",
       "      <th>class_F</th>\n",
       "      <th>class_G</th>\n",
       "      <th>class_H</th>\n",
       "      <th>sex_M</th>\n",
       "      <th>stop_Y</th>\n",
       "      <th>npay_Y</th>\n",
       "      <th>termination_Y</th>\n",
       "      <th>bill_rating_low</th>\n",
       "      <th>bill_rating_lowmid</th>\n",
       "      <th>bill_rating_mid</th>\n",
       "      <th>bill_rating_midhigh</th>\n",
       "    </tr>\n",
       "  </thead>\n",
       "  <tbody>\n",
       "    <tr>\n",
       "      <th>7809</th>\n",
       "      <td>76</td>\n",
       "      <td>1</td>\n",
       "      <td>1860.0000</td>\n",
       "      <td>1716.000000</td>\n",
       "      <td>0.0000</td>\n",
       "      <td>75</td>\n",
       "      <td>0</td>\n",
       "      <td>0</td>\n",
       "      <td>0</td>\n",
       "      <td>0</td>\n",
       "      <td>0</td>\n",
       "      <td>1</td>\n",
       "      <td>0</td>\n",
       "      <td>0</td>\n",
       "      <td>0</td>\n",
       "      <td>1</td>\n",
       "      <td>0</td>\n",
       "      <td>0</td>\n",
       "      <td>0</td>\n",
       "    </tr>\n",
       "    <tr>\n",
       "      <th>7810</th>\n",
       "      <td>15</td>\n",
       "      <td>1</td>\n",
       "      <td>1296.0999</td>\n",
       "      <td>194.414985</td>\n",
       "      <td>643.1001</td>\n",
       "      <td>15</td>\n",
       "      <td>0</td>\n",
       "      <td>0</td>\n",
       "      <td>0</td>\n",
       "      <td>0</td>\n",
       "      <td>0</td>\n",
       "      <td>0</td>\n",
       "      <td>0</td>\n",
       "      <td>1</td>\n",
       "      <td>0</td>\n",
       "      <td>1</td>\n",
       "      <td>0</td>\n",
       "      <td>0</td>\n",
       "      <td>0</td>\n",
       "    </tr>\n",
       "    <tr>\n",
       "      <th>7811</th>\n",
       "      <td>12</td>\n",
       "      <td>1</td>\n",
       "      <td>13799.6666</td>\n",
       "      <td>2069.949990</td>\n",
       "      <td>10605.9266</td>\n",
       "      <td>10</td>\n",
       "      <td>0</td>\n",
       "      <td>0</td>\n",
       "      <td>0</td>\n",
       "      <td>1</td>\n",
       "      <td>0</td>\n",
       "      <td>1</td>\n",
       "      <td>0</td>\n",
       "      <td>0</td>\n",
       "      <td>0</td>\n",
       "      <td>0</td>\n",
       "      <td>0</td>\n",
       "      <td>0</td>\n",
       "      <td>1</td>\n",
       "    </tr>\n",
       "    <tr>\n",
       "      <th>7812</th>\n",
       "      <td>40</td>\n",
       "      <td>0</td>\n",
       "      <td>3140.0000</td>\n",
       "      <td>942.000000</td>\n",
       "      <td>1884.0000</td>\n",
       "      <td>40</td>\n",
       "      <td>0</td>\n",
       "      <td>0</td>\n",
       "      <td>0</td>\n",
       "      <td>0</td>\n",
       "      <td>0</td>\n",
       "      <td>0</td>\n",
       "      <td>0</td>\n",
       "      <td>0</td>\n",
       "      <td>1</td>\n",
       "      <td>1</td>\n",
       "      <td>0</td>\n",
       "      <td>0</td>\n",
       "      <td>0</td>\n",
       "    </tr>\n",
       "    <tr>\n",
       "      <th>7813</th>\n",
       "      <td>59</td>\n",
       "      <td>1</td>\n",
       "      <td>2436.9000</td>\n",
       "      <td>365.535000</td>\n",
       "      <td>1839.9000</td>\n",
       "      <td>55</td>\n",
       "      <td>0</td>\n",
       "      <td>0</td>\n",
       "      <td>0</td>\n",
       "      <td>0</td>\n",
       "      <td>0</td>\n",
       "      <td>0</td>\n",
       "      <td>0</td>\n",
       "      <td>0</td>\n",
       "      <td>0</td>\n",
       "      <td>1</td>\n",
       "      <td>0</td>\n",
       "      <td>0</td>\n",
       "      <td>0</td>\n",
       "    </tr>\n",
       "  </tbody>\n",
       "</table>\n",
       "</div>"
      ],
      "text/plain": [
       "      age  service    avg_bill       A_bill      B_bill  by_age  class_D  \\\n",
       "7809   76        1   1860.0000  1716.000000      0.0000      75        0   \n",
       "7810   15        1   1296.0999   194.414985    643.1001      15        0   \n",
       "7811   12        1  13799.6666  2069.949990  10605.9266      10        0   \n",
       "7812   40        0   3140.0000   942.000000   1884.0000      40        0   \n",
       "7813   59        1   2436.9000   365.535000   1839.9000      55        0   \n",
       "\n",
       "      class_E  class_F  class_G  class_H  sex_M  stop_Y  npay_Y  \\\n",
       "7809        0        0        0        0      1       0       0   \n",
       "7810        0        0        0        0      0       0       1   \n",
       "7811        0        0        1        0      1       0       0   \n",
       "7812        0        0        0        0      0       0       0   \n",
       "7813        0        0        0        0      0       0       0   \n",
       "\n",
       "      termination_Y  bill_rating_low  bill_rating_lowmid  bill_rating_mid  \\\n",
       "7809              0                1                   0                0   \n",
       "7810              0                1                   0                0   \n",
       "7811              0                0                   0                0   \n",
       "7812              1                1                   0                0   \n",
       "7813              0                1                   0                0   \n",
       "\n",
       "      bill_rating_midhigh  \n",
       "7809                    0  \n",
       "7810                    0  \n",
       "7811                    1  \n",
       "7812                    0  \n",
       "7813                    0  "
      ]
     },
     "execution_count": 15,
     "metadata": {},
     "output_type": "execute_result"
    }
   ],
   "source": [
    "# 숫자 분포 이루어진 컬럼 확인\n",
    "df1.tail()"
   ]
  },
  {
   "cell_type": "code",
   "execution_count": 16,
   "id": "6af469fd-989f-45ec-ac4c-381a8516693c",
   "metadata": {},
   "outputs": [],
   "source": [
    "from sklearn.preprocessing import MinMaxScaler"
   ]
  },
  {
   "cell_type": "code",
   "execution_count": 17,
   "id": "8b6f0c09-67f8-42ac-a04c-b5ac6b64ac75",
   "metadata": {},
   "outputs": [],
   "source": [
    "scaler = MinMaxScaler()\n",
    "X_train = scaler.fit_transform(X_train)\n",
    "X_test = scaler.transform(X_test)"
   ]
  },
  {
   "cell_type": "code",
   "execution_count": 18,
   "id": "e7e93dff-05fb-48fb-bb1c-7b04c39a12da",
   "metadata": {},
   "outputs": [
    {
     "data": {
      "text/plain": [
       "array([[0.38      , 0.33333333, 0.4295439 , 0.06384702, 0.41944434,\n",
       "        0.4       , 0.        , 0.        , 0.        , 0.        ,\n",
       "        1.        , 1.        , 0.        , 1.        , 0.        ,\n",
       "        0.        , 0.        , 1.        ],\n",
       "       [0.58      , 0.11111111, 0.20111297, 0.38498933, 0.        ,\n",
       "        0.6       , 1.        , 0.        , 0.        , 0.        ,\n",
       "        0.        , 1.        , 0.        , 0.        , 0.        ,\n",
       "        1.        , 0.        , 0.        ]])"
      ]
     },
     "execution_count": 18,
     "metadata": {},
     "output_type": "execute_result"
    }
   ],
   "source": [
    "X_train[:2]"
   ]
  },
  {
   "cell_type": "markdown",
   "id": "73314860-d303-4ea2-8898-4ea21321c35a",
   "metadata": {},
   "source": [
    "+ 모델 입력갯수, 출력갯수 확인"
   ]
  },
  {
   "cell_type": "markdown",
   "id": "31c2fd84-605f-45f9-8a75-38e2efaf65d2",
   "metadata": {},
   "source": [
    "#### \n",
    "## ⑦ 딥러닝 심층신경망(DNN) 모델 구현"
   ]
  },
  {
   "cell_type": "markdown",
   "id": "782d6cb7-9a08-4b61-9c82-ce333387b9d7",
   "metadata": {},
   "source": [
    "#### \n",
    "### 라이브러리 임포트"
   ]
  },
  {
   "cell_type": "code",
   "execution_count": 22,
   "id": "48368c5c-ec0d-4a71-82aa-3b1bde070112",
   "metadata": {},
   "outputs": [
    {
     "name": "stdout",
     "output_type": "stream",
     "text": [
      "Requirement already satisfied: pip in c:\\users\\soulfever\\anaconda3\\lib\\site-packages (21.0.1)\n",
      "Collecting pip\n",
      "  Using cached pip-21.3.1-py3-none-any.whl (1.7 MB)\n",
      "Installing collected packages: pip\n",
      "  Attempting uninstall: pip\n",
      "    Found existing installation: pip 21.0.1\n",
      "    Uninstalling pip-21.0.1:\n",
      "      Successfully uninstalled pip-21.0.1\n",
      "Successfully installed pip-21.3.1\n"
     ]
    }
   ],
   "source": [
    "!python -m pip install --upgrade pip"
   ]
  },
  {
   "cell_type": "code",
   "execution_count": 24,
   "id": "2c7cf343-ab81-42a6-bc4b-bdeff9c2cda4",
   "metadata": {},
   "outputs": [
    {
     "name": "stderr",
     "output_type": "stream",
     "text": [
      "Could not find conda environment: tensorflow\n",
      "You can list all discoverable environments with `conda info --envs`.\n",
      "\n"
     ]
    }
   ],
   "source": [
    "!activate tensorflow"
   ]
  },
  {
   "cell_type": "code",
   "execution_count": 23,
   "id": "13d79efb-2173-4d5b-9805-a524ec136bb1",
   "metadata": {},
   "outputs": [
    {
     "ename": "ModuleNotFoundError",
     "evalue": "No module named 'tensorflow'",
     "output_type": "error",
     "traceback": [
      "\u001b[1;31m---------------------------------------------------------------------------\u001b[0m",
      "\u001b[1;31mModuleNotFoundError\u001b[0m                       Traceback (most recent call last)",
      "\u001b[1;32m<ipython-input-23-0d7d05850c1b>\u001b[0m in \u001b[0;36m<module>\u001b[1;34m\u001b[0m\n\u001b[1;32m----> 1\u001b[1;33m \u001b[1;32mimport\u001b[0m \u001b[0mtensorflow\u001b[0m \u001b[1;32mas\u001b[0m \u001b[0mtf\u001b[0m\u001b[1;33m\u001b[0m\u001b[1;33m\u001b[0m\u001b[0m\n\u001b[0m\u001b[0;32m      2\u001b[0m \u001b[1;32mfrom\u001b[0m \u001b[0mtensorflow\u001b[0m\u001b[1;33m.\u001b[0m\u001b[0mkeras\u001b[0m\u001b[1;33m.\u001b[0m\u001b[0mmodels\u001b[0m \u001b[1;32mimport\u001b[0m \u001b[0mSequential\u001b[0m\u001b[1;33m\u001b[0m\u001b[1;33m\u001b[0m\u001b[0m\n\u001b[0;32m      3\u001b[0m \u001b[1;32mfrom\u001b[0m \u001b[0mtensorflow\u001b[0m\u001b[1;33m.\u001b[0m\u001b[0mkeras\u001b[0m\u001b[1;33m.\u001b[0m\u001b[0mlayers\u001b[0m \u001b[1;32mimport\u001b[0m \u001b[0mDense\u001b[0m\u001b[1;33m,\u001b[0m \u001b[0mActivation\u001b[0m\u001b[1;33m,\u001b[0m \u001b[0mDropout\u001b[0m\u001b[1;33m\u001b[0m\u001b[1;33m\u001b[0m\u001b[0m\n",
      "\u001b[1;31mModuleNotFoundError\u001b[0m: No module named 'tensorflow'"
     ]
    }
   ],
   "source": [
    "import tensorflow as tf\n",
    "from tensorflow.keras.models import Sequential\n",
    "from tensorflow.keras.layers import Dense, Activation, Dropout"
   ]
  },
  {
   "cell_type": "markdown",
   "id": "23caa71f-1a76-4587-bd3e-15e72f8f197a",
   "metadata": {},
   "source": [
    "#### \n",
    "### 하이퍼파라미터 설정 : batch_size, epochs"
   ]
  },
  {
   "cell_type": "code",
   "execution_count": null,
   "id": "2215d745-5657-45db-9cf1-2466fc8832e8",
   "metadata": {},
   "outputs": [],
   "source": [
    "batch_size = 16\n",
    "epochs = 20"
   ]
  },
  {
   "cell_type": "markdown",
   "id": "cdef0635-915d-45dd-8c77-fc897b7151c0",
   "metadata": {},
   "source": [
    "#### \n",
    "### 모델 입력(features) 갯수 확인"
   ]
  },
  {
   "cell_type": "code",
   "execution_count": null,
   "id": "2f2bf3dd-de13-4409-a4fc-e78a359bdd8f",
   "metadata": {},
   "outputs": [],
   "source": [
    "X_train.shape"
   ]
  },
  {
   "cell_type": "markdown",
   "id": "6dea1427-18c5-4c64-bf16-225e6dc48a84",
   "metadata": {},
   "source": [
    "#### \n",
    "### 모델 출력(label) 갯수 확인"
   ]
  },
  {
   "cell_type": "code",
   "execution_count": null,
   "id": "ca95f621-7ea3-4ece-8aa7-fd9d28161a0f",
   "metadata": {},
   "outputs": [],
   "source": [
    "y_train.shape"
   ]
  },
  {
   "cell_type": "markdown",
   "id": "14d0b639-bf14-431a-bf6d-6fb1e9513d9c",
   "metadata": {},
   "source": [
    "#### \n",
    "### A. 이진분류 DNN모델 구성 "
   ]
  },
  {
   "cell_type": "markdown",
   "id": "b4a6f8fb-587e-483d-8fcf-5f7a7f5186d6",
   "metadata": {},
   "source": [
    "![hidden Layer](https://github.com/gzone2000/TEMP_TEST/raw/master/hidden_layer1.PNG)\n",
    "+ [출처] https://subscription.packtpub.com/book/data/9781788995207/1/ch01lvl1sec03/deep-learning-intuition"
   ]
  },
  {
   "cell_type": "code",
   "execution_count": null,
   "id": "bea92863-b406-4456-840f-702397fd11e9",
   "metadata": {},
   "outputs": [],
   "source": [
    "##### <font color=blue> **[문제] 요구사항대로 Sequential 모델을 만들어 보세요.** </font>"
   ]
  },
  {
   "cell_type": "code",
   "execution_count": null,
   "id": "7aa27a88-f9a8-49a2-84d3-425d209cec0c",
   "metadata": {},
   "outputs": [],
   "source": [
    "# Sequential() 모델 정의 하고 model로 저장\n",
    "# input layer는 input_shape=() 옵션을 사용한다.\n",
    "# 18개 input layer\n",
    "# unit 4개 hidden layer\n",
    "# unit 3개 hidden layer \n",
    "# 1개 output layser : 이진분류\n",
    "\n",
    "\n",
    "model = Sequential()\n",
    "model.add(Dense(4, activation='relu', input_shape=(18,)))\n",
    "model.add(Dense(3, activation='relu'))\n",
    "model.add(Dense(1, activation='sigmoid'))"
   ]
  },
  {
   "cell_type": "code",
   "execution_count": null,
   "id": "7fcf49bd-e4ec-42f2-a48d-d4b47408a0c8",
   "metadata": {},
   "outputs": [],
   "source": [
    "#### \n",
    "### 모델 확인"
   ]
  },
  {
   "cell_type": "code",
   "execution_count": null,
   "id": "af5c13af-38a9-4bf8-a165-b9e4635e1df7",
   "metadata": {},
   "outputs": [],
   "source": [
    "model.summary()"
   ]
  },
  {
   "cell_type": "code",
   "execution_count": null,
   "id": "0f21b65a-65de-4230-91c6-020939f65e24",
   "metadata": {},
   "outputs": [],
   "source": [
    "#### \n",
    "### 모델 구성 -  과적합 방지"
   ]
  },
  {
   "cell_type": "code",
   "execution_count": null,
   "id": "cbfeeff0-7559-40ea-9f5d-02ee18038341",
   "metadata": {},
   "outputs": [],
   "source": [
    "![dropout](https://github.com/gzone2000/TEMP_TEST/raw/master/dropout.PNG)\n",
    "+ [출처] https://medium.com/@amarbudhiraja/https-medium-com-amarbudhiraja-learning-less-to-learn-better-dropout-in-deep-machine-learning-74334da4bfc5"
   ]
  },
  {
   "cell_type": "code",
   "execution_count": null,
   "id": "20883627-dc29-4df8-83e7-f395e32200fc",
   "metadata": {},
   "outputs": [],
   "source": [
    "model = Sequential()\n",
    "model.add(Dense(4, activation='relu', input_shape=(18,)))\n",
    "model.add(Dropout(0.3))\n",
    "model.add(Dense(3, activation='relu'))\n",
    "model.add(Dropout(0.3))\n",
    "model.add(Dense(1, activation='sigmoid'))"
   ]
  },
  {
   "cell_type": "code",
   "execution_count": null,
   "id": "919323d7-b63b-43b6-aab0-180c460a44a6",
   "metadata": {},
   "outputs": [],
   "source": [
    "#### \n",
    "### 과적합 방지 모델 확인"
   ]
  },
  {
   "cell_type": "code",
   "execution_count": null,
   "id": "65691fa9-e5b6-4f1d-9788-691fe2b83bb4",
   "metadata": {},
   "outputs": [],
   "source": [
    "model.summary()"
   ]
  },
  {
   "cell_type": "code",
   "execution_count": null,
   "id": "abe964be-e1e0-40d1-b86d-75e8e6ea7c11",
   "metadata": {},
   "outputs": [],
   "source": [
    "#### \n",
    "### 모델 컴파일 – 이진 분류 모델"
   ]
  },
  {
   "cell_type": "code",
   "execution_count": null,
   "id": "280130f8-b233-4d52-be19-ac18cbec0bf3",
   "metadata": {},
   "outputs": [],
   "source": [
    "model.compile(optimizer='adam', \n",
    "              loss='binary_crossentropy', \n",
    "              metrics=['accuracy']) "
   ]
  },
  {
   "cell_type": "code",
   "execution_count": null,
   "id": "084f2f77-e0c8-4c8c-899b-aaadbac0f948",
   "metadata": {},
   "outputs": [],
   "source": [
    "- 모델 컴파일 – 다중 분류 모델 (Y값을 One-Hot-Encoding 한경우) <br>\n",
    "model.compile(optimizer='adam', \n",
    "              loss='categorical_crossentropy', \n",
    "              metrics=['accuracy']) "
   ]
  },
  {
   "cell_type": "code",
   "execution_count": null,
   "id": "be5c3140-b029-4cf1-858f-4b21513d4f5c",
   "metadata": {},
   "outputs": [],
   "source": [
    "- 모델 컴파일 – 다중 분류 모델  (Y값을 One-Hot-Encoding 하지 않은 경우) <br>\n",
    "model.compile(optimizer='adam', \n",
    "              loss='sparse_categorical_crossentropy', \n",
    "              metrics=['accuracy'])"
   ]
  },
  {
   "cell_type": "code",
   "execution_count": null,
   "id": "971d1334-67fe-4b45-8111-0a9f90c3b42d",
   "metadata": {},
   "outputs": [],
   "source": [
    "- 모델 컴파일 – 예측 모델\n",
    "model.compile(optimizer='adam', loss='mse')"
   ]
  },
  {
   "cell_type": "code",
   "execution_count": null,
   "id": "6ddec689-c9d2-47f6-b890-539eae300a74",
   "metadata": {},
   "outputs": [],
   "source": [
    "#### \n",
    "### 모델 학습"
   ]
  },
  {
   "cell_type": "code",
   "execution_count": null,
   "id": "3fba4304-df81-4ef7-baf7-86b00fbf01f1",
   "metadata": {},
   "outputs": [],
   "source": [
    "##### <font color=blue> **[문제] 요구사항대로 DNN 모델을 학습시키세요.** </font>\n",
    "+ 모델 이름 : model\n",
    "+ epoch : 10번\n",
    "+ batch_size : 10번"
   ]
  },
  {
   "cell_type": "code",
   "execution_count": null,
   "id": "ad477233-6a5f-4820-9751-9c58c8e1fdcd",
   "metadata": {},
   "outputs": [],
   "source": [
    "# 앞쪽에서 정의된 모델 이름 : model\n",
    "# Sequential 모델의 fit() 함수 사용\n",
    "# @인자\n",
    "### X, y : X_train, y_train\n",
    "### validation_data=(X_test, y_test)\n",
    "### epochs 10번\n",
    "### batch_size 10번\n",
    "\n",
    "\n",
    "model.fit(X_train, y_train, \n",
    "          validation_data=(X_test, y_test),\n",
    "          epochs=10, \n",
    "          batch_size=10)"
   ]
  },
  {
   "cell_type": "code",
   "execution_count": null,
   "id": "ca2a7ea2-d4c8-43db-afbe-85598042a329",
   "metadata": {},
   "outputs": [],
   "source": [
    "#### \n",
    "### B. 다중 분류 DNN 구성\n",
    "+ 18개 input layer\n",
    "+ unit 5개 hidden layer\n",
    "+ dropout\n",
    "+ unit 4개 hidden layer \n",
    "+ dropout\n",
    "+ 2개 output layser : 이진분류"
   ]
  },
  {
   "cell_type": "code",
   "execution_count": null,
   "id": "4cdfff62-182f-4324-88a6-b49450ec28dd",
   "metadata": {},
   "outputs": [],
   "source": [
    "![다중분류](https://github.com/gzone2000/TEMP_TEST/raw/master/hidden_layer2.PNG)\n",
    "+ [출처] https://www.educba.com/dnn-neural-network/"
   ]
  },
  {
   "cell_type": "code",
   "execution_count": null,
   "id": "6bc930e1-5fdf-4c30-928c-028db8f3e7dd",
   "metadata": {},
   "outputs": [],
   "source": [
    "# 18개 input layer\n",
    "# unit 5개 hidden layer\n",
    "# dropout\n",
    "# unit 4개 hidden layer \n",
    "# dropout\n",
    "# 2개 output layser : 다중분류\n",
    "\n",
    "model = Sequential()\n",
    "model.add(Dense(5, activation='relu', input_shape=(18,)))\n",
    "model.add(Dropout(0.3))\n",
    "model.add(Dense(4, activation='relu'))\n",
    "model.add(Dropout(0.3))\n",
    "model.add(Dense(2, activation='softmax'))"
   ]
  },
  {
   "cell_type": "code",
   "execution_count": null,
   "id": "9b5f25d9-d4b9-4ef8-b3d1-5187701dee71",
   "metadata": {},
   "outputs": [],
   "source": [
    "#### \n",
    "### 모델 확인"
   ]
  },
  {
   "cell_type": "code",
   "execution_count": null,
   "id": "03fdb9de-109d-4be0-9c03-54e63e726826",
   "metadata": {},
   "outputs": [],
   "source": [
    "model.summary()"
   ]
  },
  {
   "cell_type": "code",
   "execution_count": null,
   "id": "280eda99-6b9f-427e-b9be-a793dee96fe0",
   "metadata": {},
   "outputs": [],
   "source": [
    "#### \n",
    "### 모델 컴파일 – 다중 분류 모델"
   ]
  },
  {
   "cell_type": "code",
   "execution_count": null,
   "id": "5792b46b-61c9-4b50-832e-22c7c83a8680",
   "metadata": {},
   "outputs": [],
   "source": [
    "model.compile(optimizer='adam', \n",
    "              loss='sparse_categorical_crossentropy', \n",
    "              metrics=['accuracy']) "
   ]
  },
  {
   "cell_type": "code",
   "execution_count": null,
   "id": "185342b5-efe0-4341-ad84-6777cad999fe",
   "metadata": {},
   "outputs": [],
   "source": [
    "#### \n",
    "### 모델 학습"
   ]
  },
  {
   "cell_type": "code",
   "execution_count": null,
   "id": "acb008ab-8fa2-4513-9ab5-def568fd91ca",
   "metadata": {},
   "outputs": [],
   "source": [
    "history = model.fit(X_train, y_train, \n",
    "          validation_data=(X_test, y_test),\n",
    "          epochs=20, \n",
    "          batch_size=16)"
   ]
  },
  {
   "cell_type": "code",
   "execution_count": null,
   "id": "41840d1d-6bcf-442e-98a3-7a79ded2e6ba",
   "metadata": {},
   "outputs": [],
   "source": [
    "#### \n",
    "### Callback : 조기종료, 모델 저장"
   ]
  },
  {
   "cell_type": "code",
   "execution_count": null,
   "id": "ff614765-a4ad-47be-8f6c-766bd821c332",
   "metadata": {},
   "outputs": [],
   "source": [
    "from tensorflow.keras.callbacks import EarlyStopping, ModelCheckpoint"
   ]
  },
  {
   "cell_type": "code",
   "execution_count": null,
   "id": "76a04b06-9bc3-430e-96fb-5a9e8b4b12ff",
   "metadata": {},
   "outputs": [],
   "source": [
    "early_stop = EarlyStopping(monitor='val_loss', mode='min', \n",
    "                           verbose=1, patience=5)"
   ]
  },
  {
   "cell_type": "code",
   "execution_count": null,
   "id": "d7204915-a13b-4ed6-a753-6f25b675ba22",
   "metadata": {},
   "outputs": [],
   "source": [
    "check_point = ModelCheckpoint('best_model.h5', verbose=1,\n",
    "                              monitor='val_loss', mode='min', \n",
    "                              save_best_only=True)"
   ]
  },
  {
   "cell_type": "code",
   "execution_count": null,
   "id": "0db82b88-4b1d-40ba-ad33-87dd3937353f",
   "metadata": {},
   "outputs": [],
   "source": [
    "#### \n",
    "### 모델 학습"
   ]
  },
  {
   "cell_type": "code",
   "execution_count": null,
   "id": "c880e326-cb6c-437d-b321-471967815c47",
   "metadata": {},
   "outputs": [],
   "source": [
    "history = model.fit(x=X_train, y=y_train, \n",
    "          epochs=50 , batch_size=20,\n",
    "          validation_data=(X_test, y_test), \n",
    "          verbose=1,\n",
    "          callbacks=[early_stop, check_point])"
   ]
  },
  {
   "cell_type": "code",
   "execution_count": null,
   "id": "a40db0ca-fcbf-41a8-a795-45af287e62f3",
   "metadata": {},
   "outputs": [],
   "source": [
    "#### \n",
    "### 모델 성능 평가"
   ]
  },
  {
   "cell_type": "code",
   "execution_count": null,
   "id": "d797b06a-d972-4958-973d-d835a3fa4fa7",
   "metadata": {},
   "outputs": [],
   "source": [
    "losses = pd.DataFrame(model.history.history)"
   ]
  },
  {
   "cell_type": "code",
   "execution_count": null,
   "id": "2bfa9a41-4ddf-4186-8edb-9c7feaa548bf",
   "metadata": {},
   "outputs": [],
   "source": [
    "losses.head()"
   ]
  },
  {
   "cell_type": "code",
   "execution_count": null,
   "id": "bd2233f1-4a7b-4b8d-abf5-fd685df56a9d",
   "metadata": {},
   "outputs": [],
   "source": [
    "+ 성능 시각화"
   ]
  },
  {
   "cell_type": "code",
   "execution_count": null,
   "id": "a007be1b-8d50-4c07-b85a-8a588fc3a39b",
   "metadata": {},
   "outputs": [],
   "source": [
    "losses[['loss','val_loss']].plot()"
   ]
  },
  {
   "cell_type": "code",
   "execution_count": null,
   "id": "e9faeff3-6b0d-4512-a701-c5a00c8cc7ee",
   "metadata": {},
   "outputs": [],
   "source": [
    "losses[['loss','val_loss', 'accuracy','val_accuracy']].plot()"
   ]
  },
  {
   "cell_type": "code",
   "execution_count": null,
   "id": "30587125-9ad5-42de-b3d7-d7199d2ad2fc",
   "metadata": {},
   "outputs": [],
   "source": [
    "plt.plot(history.history['accuracy'])\n",
    "plt.plot(history.history['val_accuracy'])\n",
    "plt.title('Accuracy')\n",
    "plt.xlabel('Epochs')\n",
    "plt.ylabel('Acc')\n",
    "plt.legend(['acc', 'val_acc'])\n",
    "plt.show()"
   ]
  },
  {
   "cell_type": "code",
   "execution_count": null,
   "id": "b133bdbb-a308-4e63-bae6-994c7c756346",
   "metadata": {},
   "outputs": [],
   "source": [
    "## \n",
    "## 배운 내용 정리\n",
    "1. 딥러닝 심층신경망(DNN) 모델 프로세스\n",
    " + 데이터 가져오기\n",
    " + 데이터 전처리\n",
    " + Train, Test 데이터셋 분할\n",
    " + 데이터 정규화\n",
    " + DNN 딥러닝 모델"
   ]
  }
 ],
 "metadata": {
  "kernelspec": {
   "display_name": "Python 3",
   "language": "python",
   "name": "python3"
  },
  "language_info": {
   "codemirror_mode": {
    "name": "ipython",
    "version": 3
   },
   "file_extension": ".py",
   "mimetype": "text/x-python",
   "name": "python",
   "nbconvert_exporter": "python",
   "pygments_lexer": "ipython3",
   "version": "3.8.8"
  }
 },
 "nbformat": 4,
 "nbformat_minor": 5
}
