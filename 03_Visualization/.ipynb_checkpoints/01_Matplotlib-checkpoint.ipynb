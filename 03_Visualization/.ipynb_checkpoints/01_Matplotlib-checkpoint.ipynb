{
 "cells": [
  {
   "cell_type": "markdown",
   "id": "a765af0d-a572-4724-a5ce-f155e09c4180",
   "metadata": {},
   "source": [
    "# 데이터 시각화\n",
    "- 데이터틀 시각화하여 분포나 특성을 확인할 수 있다\n",
    "- 방대한 양의 데이터를 빠르게 보고 유의미한 특성을 찾기 쉽다\n",
    "\n",
    "## Matplotlib\n",
    "- 파이썬에서 데이터를 **차트**나 **플롯**으로 그려주는 가장 많이 사용되는 **데이터 시각화 패키지**\n",
    "- plt로 사용\n",
    "\n",
    "### 차트 그리기\n",
    "1. plt.figure() : 시각화 그림을 표시할 영역 지정\n",
    "2. plt.plot() : 시각화 차트 및 값 지정\n",
    "3. plt.show() : 시각화 출력\n",
    "\n",
    "### 선 그래프 (Line Plot)\n",
    "- plt.plot(data)\n",
    "- 수치의 변화를 선으로 이어서 그려줌\n",
    "- **시간에 따른 데이터의 변화 추세**를 볼 때 좋음\n",
    "\n",
    "### 산점도\n",
    "- plt.scatter(x,y)\n",
    "- 키, 몸무게 같은 **두 값 간의 관계**를 표현\n",
    "- 두 값이 양의 관게인지 음의 관계인지 파악할 수 있음\n",
    "- X, Y 값을 지정해야한다\n",
    "\n",
    "### 히스토그램\n",
    "- plt.hist(x)\n",
    "- **수치형 데이터의 분포** 나타냄\n",
    "- **빈도, 빈도밀도, 확률** 등의 분포를 그릴 때 사용\n",
    "- 구간 값(bins)을 정해주지 않으면 10개 구간으로 나눠서 그래프를 그려줌\n",
    "\n",
    "### 박스 그래프\n",
    "- plt.boxplot(x)\n",
    "- **수치적 자료**를 표현하는 그래프\n",
    "- 수치적 자료로부터 얻어낸 통계량인 **5가지 요약 수치**를 가지고 그래프를 만듦\n",
    "    - 최소값, 제 1,2,3 사분위 값, 최대값\n",
    "\n",
    "### 막대 그래프\n",
    "- plt.bar(x, height)\n",
    "- **범주형 데이터의 수치를 요약**해서 보여줌\n",
    "- 일반적으로 **가로, 세로, 누적, 그룹화된 막대 그래프** 등을 사용"
   ]
  },
  {
   "cell_type": "code",
   "execution_count": null,
   "id": "cd115bb6-2075-44d0-9a64-85faee6721cf",
   "metadata": {},
   "outputs": [],
   "source": []
  }
 ],
 "metadata": {
  "kernelspec": {
   "display_name": "Python 3",
   "language": "python",
   "name": "python3"
  },
  "language_info": {
   "codemirror_mode": {
    "name": "ipython",
    "version": 3
   },
   "file_extension": ".py",
   "mimetype": "text/x-python",
   "name": "python",
   "nbconvert_exporter": "python",
   "pygments_lexer": "ipython3",
   "version": "3.8.8"
  }
 },
 "nbformat": 4,
 "nbformat_minor": 5
}
